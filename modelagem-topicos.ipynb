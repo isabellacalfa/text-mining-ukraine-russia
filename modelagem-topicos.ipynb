{
  "cells": [
    {
      "cell_type": "markdown",
      "metadata": {
        "id": "0J5N87XJKRjH"
      },
      "source": [
        "Referência: https://www.machinelearningplus.com/nlp/topic-modeling-gensim-python/#:~:text=Topic%20Modeling%20is%20a%20technique,in%20the%20Python%27s%20Gensim%20package."
      ]
    },
    {
      "cell_type": "code",
      "execution_count": 1,
      "metadata": {
        "id": "Kb8WaQ9bKRjK",
        "outputId": "fe25a750-8d19-4e3f-d053-ab9c58ff1b7e",
        "colab": {
          "base_uri": "https://localhost:8080/"
        }
      },
      "outputs": [
        {
          "output_type": "stream",
          "name": "stdout",
          "text": [
            "[nltk_data] Downloading package stopwords to /root/nltk_data...\n",
            "[nltk_data]   Package stopwords is already up-to-date!\n"
          ]
        }
      ],
      "source": [
        "# Bibliotecas\n",
        "import nltk; nltk.download('stopwords')\n",
        "import re\n",
        "import numpy as np\n",
        "import pandas as pd\n",
        "from pprint import pprint\n",
        "# Gensim\n",
        "import gensim\n",
        "import gensim.corpora as corpora\n",
        "from gensim.utils import simple_preprocess\n",
        "from gensim.models import CoherenceModel\n",
        "\n",
        "# Enable logging for gensim - optional\n",
        "import logging\n",
        "logging.basicConfig(format='%(asctime)s : %(levelname)s : %(message)s', level=logging.ERROR)\n",
        "\n",
        "import warnings\n",
        "warnings.filterwarnings(\"ignore\",category=DeprecationWarning)\n"
      ]
    },
    {
      "cell_type": "code",
      "execution_count": 2,
      "metadata": {
        "id": "xcdzje1UKRjN"
      },
      "outputs": [],
      "source": [
        "# NLTK Stop words\n",
        "from nltk.corpus import stopwords\n",
        "stop_words = stopwords.words('english')\n",
        "stop_words.extend(['from', 'subject', 're', 'edu', 'use'])"
      ]
    },
    {
      "cell_type": "code",
      "execution_count": 4,
      "metadata": {
        "id": "gEPfoy-OKRjP",
        "outputId": "6ea791c6-9a36-4cad-a2b1-69e6b1e6c30b",
        "colab": {
          "base_uri": "https://localhost:8080/",
          "height": 635
        }
      },
      "outputs": [
        {
          "output_type": "execute_result",
          "data": {
            "text/plain": [
              "   Unnamed: 0               userid         username  \\\n",
              "0     1141800  1466752038960656385   Curtin2Tiffany   \n",
              "1     1141801  1111276809302216710           5ela60   \n",
              "3     1141803            597779527  OurTurnToRescue   \n",
              "4     1141804           1646145848   DrWAVeSportCd1   \n",
              "5     1141805           2191952909    WyvernReports   \n",
              "\n",
              "                                            acctdesc         location  \\\n",
              "0  I am just like everyone else.  The universe ex...    Colorado, USA   \n",
              "1             الأب ..الأخ ..الجار ..الحبيب .. السديك              NaN   \n",
              "3  Issues: Threats to Democracy, Racism, GOP corr...              NaN   \n",
              "4  Addicted to News, Music, Cooking, Gardens, Out...              USA   \n",
              "5  In war, truth is the first casualty. Focus #Sy...  The Blue Marble   \n",
              "\n",
              "   following  followers  totaltweets               usercreatedts  \\\n",
              "0        253         40           94  2021-12-03 12:52:22.000000   \n",
              "1        167          9          656  2019-03-28 14:40:12.000000   \n",
              "3       4847       4080        33666  2012-06-02 21:53:59.000000   \n",
              "4       5002       3950       466629  2013-08-04 21:07:08.000000   \n",
              "5        700       6424        20689  2013-11-22 21:51:19.000000   \n",
              "\n",
              "               tweetid       tweetcreatedts  retweetcount  \\\n",
              "0  1497724980259262467  2022-02-27 00:07:16             5   \n",
              "1  1497724980271984641  2022-02-27 00:07:16            28   \n",
              "3  1497724980573966346  2022-02-27 00:07:16             1   \n",
              "4  1497724980653694976  2022-02-27 00:07:16           277   \n",
              "5  1497724980833968129  2022-02-27 00:07:16           565   \n",
              "\n",
              "                                                text  \\\n",
              "0  #UkraineRussiaWar Captured Russian soldiers\\n\\...   \n",
              "1  Like everybody else I am rooting for Ukraine t...   \n",
              "3  We elected a game show host and got a clown. #...   \n",
              "4  Ukrainian soldiers wearing sunflowers in their...   \n",
              "5  russian troops destroyed a commercial oil base...   \n",
              "\n",
              "                                            hashtags language coordinates  \\\n",
              "0  [{'text': 'UkraineRussiaWar', 'indices': [19, ...       en         NaN   \n",
              "1                                                 []       en         NaN   \n",
              "3         [{'text': 'Ukraine', 'indices': [63, 71]}]       en         NaN   \n",
              "4  [{'text': 'Ukraine', 'indices': [122, 130]}, {...       en         NaN   \n",
              "5                                                 []       en         NaN   \n",
              "\n",
              "   favorite_count                 extractedts  \n",
              "0               0  2022-02-27 00:09:33.084131  \n",
              "1               0  2022-02-27 00:09:33.068011  \n",
              "3               0  2022-02-27 00:09:33.051823  \n",
              "4               0  2022-02-27 00:09:33.043812  \n",
              "5               0  2022-02-27 00:09:33.035798  "
            ],
            "text/html": [
              "\n",
              "  <div id=\"df-2ed5afb2-bd7d-4e44-aaf3-0d20ceb95eee\">\n",
              "    <div class=\"colab-df-container\">\n",
              "      <div>\n",
              "<style scoped>\n",
              "    .dataframe tbody tr th:only-of-type {\n",
              "        vertical-align: middle;\n",
              "    }\n",
              "\n",
              "    .dataframe tbody tr th {\n",
              "        vertical-align: top;\n",
              "    }\n",
              "\n",
              "    .dataframe thead th {\n",
              "        text-align: right;\n",
              "    }\n",
              "</style>\n",
              "<table border=\"1\" class=\"dataframe\">\n",
              "  <thead>\n",
              "    <tr style=\"text-align: right;\">\n",
              "      <th></th>\n",
              "      <th>Unnamed: 0</th>\n",
              "      <th>userid</th>\n",
              "      <th>username</th>\n",
              "      <th>acctdesc</th>\n",
              "      <th>location</th>\n",
              "      <th>following</th>\n",
              "      <th>followers</th>\n",
              "      <th>totaltweets</th>\n",
              "      <th>usercreatedts</th>\n",
              "      <th>tweetid</th>\n",
              "      <th>tweetcreatedts</th>\n",
              "      <th>retweetcount</th>\n",
              "      <th>text</th>\n",
              "      <th>hashtags</th>\n",
              "      <th>language</th>\n",
              "      <th>coordinates</th>\n",
              "      <th>favorite_count</th>\n",
              "      <th>extractedts</th>\n",
              "    </tr>\n",
              "  </thead>\n",
              "  <tbody>\n",
              "    <tr>\n",
              "      <th>0</th>\n",
              "      <td>1141800</td>\n",
              "      <td>1466752038960656385</td>\n",
              "      <td>Curtin2Tiffany</td>\n",
              "      <td>I am just like everyone else.  The universe ex...</td>\n",
              "      <td>Colorado, USA</td>\n",
              "      <td>253</td>\n",
              "      <td>40</td>\n",
              "      <td>94</td>\n",
              "      <td>2021-12-03 12:52:22.000000</td>\n",
              "      <td>1497724980259262467</td>\n",
              "      <td>2022-02-27 00:07:16</td>\n",
              "      <td>5</td>\n",
              "      <td>#UkraineRussiaWar Captured Russian soldiers\\n\\...</td>\n",
              "      <td>[{'text': 'UkraineRussiaWar', 'indices': [19, ...</td>\n",
              "      <td>en</td>\n",
              "      <td>NaN</td>\n",
              "      <td>0</td>\n",
              "      <td>2022-02-27 00:09:33.084131</td>\n",
              "    </tr>\n",
              "    <tr>\n",
              "      <th>1</th>\n",
              "      <td>1141801</td>\n",
              "      <td>1111276809302216710</td>\n",
              "      <td>5ela60</td>\n",
              "      <td>الأب ..الأخ ..الجار ..الحبيب .. السديك</td>\n",
              "      <td>NaN</td>\n",
              "      <td>167</td>\n",
              "      <td>9</td>\n",
              "      <td>656</td>\n",
              "      <td>2019-03-28 14:40:12.000000</td>\n",
              "      <td>1497724980271984641</td>\n",
              "      <td>2022-02-27 00:07:16</td>\n",
              "      <td>28</td>\n",
              "      <td>Like everybody else I am rooting for Ukraine t...</td>\n",
              "      <td>[]</td>\n",
              "      <td>en</td>\n",
              "      <td>NaN</td>\n",
              "      <td>0</td>\n",
              "      <td>2022-02-27 00:09:33.068011</td>\n",
              "    </tr>\n",
              "    <tr>\n",
              "      <th>3</th>\n",
              "      <td>1141803</td>\n",
              "      <td>597779527</td>\n",
              "      <td>OurTurnToRescue</td>\n",
              "      <td>Issues: Threats to Democracy, Racism, GOP corr...</td>\n",
              "      <td>NaN</td>\n",
              "      <td>4847</td>\n",
              "      <td>4080</td>\n",
              "      <td>33666</td>\n",
              "      <td>2012-06-02 21:53:59.000000</td>\n",
              "      <td>1497724980573966346</td>\n",
              "      <td>2022-02-27 00:07:16</td>\n",
              "      <td>1</td>\n",
              "      <td>We elected a game show host and got a clown. #...</td>\n",
              "      <td>[{'text': 'Ukraine', 'indices': [63, 71]}]</td>\n",
              "      <td>en</td>\n",
              "      <td>NaN</td>\n",
              "      <td>0</td>\n",
              "      <td>2022-02-27 00:09:33.051823</td>\n",
              "    </tr>\n",
              "    <tr>\n",
              "      <th>4</th>\n",
              "      <td>1141804</td>\n",
              "      <td>1646145848</td>\n",
              "      <td>DrWAVeSportCd1</td>\n",
              "      <td>Addicted to News, Music, Cooking, Gardens, Out...</td>\n",
              "      <td>USA</td>\n",
              "      <td>5002</td>\n",
              "      <td>3950</td>\n",
              "      <td>466629</td>\n",
              "      <td>2013-08-04 21:07:08.000000</td>\n",
              "      <td>1497724980653694976</td>\n",
              "      <td>2022-02-27 00:07:16</td>\n",
              "      <td>277</td>\n",
              "      <td>Ukrainian soldiers wearing sunflowers in their...</td>\n",
              "      <td>[{'text': 'Ukraine', 'indices': [122, 130]}, {...</td>\n",
              "      <td>en</td>\n",
              "      <td>NaN</td>\n",
              "      <td>0</td>\n",
              "      <td>2022-02-27 00:09:33.043812</td>\n",
              "    </tr>\n",
              "    <tr>\n",
              "      <th>5</th>\n",
              "      <td>1141805</td>\n",
              "      <td>2191952909</td>\n",
              "      <td>WyvernReports</td>\n",
              "      <td>In war, truth is the first casualty. Focus #Sy...</td>\n",
              "      <td>The Blue Marble</td>\n",
              "      <td>700</td>\n",
              "      <td>6424</td>\n",
              "      <td>20689</td>\n",
              "      <td>2013-11-22 21:51:19.000000</td>\n",
              "      <td>1497724980833968129</td>\n",
              "      <td>2022-02-27 00:07:16</td>\n",
              "      <td>565</td>\n",
              "      <td>russian troops destroyed a commercial oil base...</td>\n",
              "      <td>[]</td>\n",
              "      <td>en</td>\n",
              "      <td>NaN</td>\n",
              "      <td>0</td>\n",
              "      <td>2022-02-27 00:09:33.035798</td>\n",
              "    </tr>\n",
              "  </tbody>\n",
              "</table>\n",
              "</div>\n",
              "      <button class=\"colab-df-convert\" onclick=\"convertToInteractive('df-2ed5afb2-bd7d-4e44-aaf3-0d20ceb95eee')\"\n",
              "              title=\"Convert this dataframe to an interactive table.\"\n",
              "              style=\"display:none;\">\n",
              "        \n",
              "  <svg xmlns=\"http://www.w3.org/2000/svg\" height=\"24px\"viewBox=\"0 0 24 24\"\n",
              "       width=\"24px\">\n",
              "    <path d=\"M0 0h24v24H0V0z\" fill=\"none\"/>\n",
              "    <path d=\"M18.56 5.44l.94 2.06.94-2.06 2.06-.94-2.06-.94-.94-2.06-.94 2.06-2.06.94zm-11 1L8.5 8.5l.94-2.06 2.06-.94-2.06-.94L8.5 2.5l-.94 2.06-2.06.94zm10 10l.94 2.06.94-2.06 2.06-.94-2.06-.94-.94-2.06-.94 2.06-2.06.94z\"/><path d=\"M17.41 7.96l-1.37-1.37c-.4-.4-.92-.59-1.43-.59-.52 0-1.04.2-1.43.59L10.3 9.45l-7.72 7.72c-.78.78-.78 2.05 0 2.83L4 21.41c.39.39.9.59 1.41.59.51 0 1.02-.2 1.41-.59l7.78-7.78 2.81-2.81c.8-.78.8-2.07 0-2.86zM5.41 20L4 18.59l7.72-7.72 1.47 1.35L5.41 20z\"/>\n",
              "  </svg>\n",
              "      </button>\n",
              "      \n",
              "  <style>\n",
              "    .colab-df-container {\n",
              "      display:flex;\n",
              "      flex-wrap:wrap;\n",
              "      gap: 12px;\n",
              "    }\n",
              "\n",
              "    .colab-df-convert {\n",
              "      background-color: #E8F0FE;\n",
              "      border: none;\n",
              "      border-radius: 50%;\n",
              "      cursor: pointer;\n",
              "      display: none;\n",
              "      fill: #1967D2;\n",
              "      height: 32px;\n",
              "      padding: 0 0 0 0;\n",
              "      width: 32px;\n",
              "    }\n",
              "\n",
              "    .colab-df-convert:hover {\n",
              "      background-color: #E2EBFA;\n",
              "      box-shadow: 0px 1px 2px rgba(60, 64, 67, 0.3), 0px 1px 3px 1px rgba(60, 64, 67, 0.15);\n",
              "      fill: #174EA6;\n",
              "    }\n",
              "\n",
              "    [theme=dark] .colab-df-convert {\n",
              "      background-color: #3B4455;\n",
              "      fill: #D2E3FC;\n",
              "    }\n",
              "\n",
              "    [theme=dark] .colab-df-convert:hover {\n",
              "      background-color: #434B5C;\n",
              "      box-shadow: 0px 1px 3px 1px rgba(0, 0, 0, 0.15);\n",
              "      filter: drop-shadow(0px 1px 2px rgba(0, 0, 0, 0.3));\n",
              "      fill: #FFFFFF;\n",
              "    }\n",
              "  </style>\n",
              "\n",
              "      <script>\n",
              "        const buttonEl =\n",
              "          document.querySelector('#df-2ed5afb2-bd7d-4e44-aaf3-0d20ceb95eee button.colab-df-convert');\n",
              "        buttonEl.style.display =\n",
              "          google.colab.kernel.accessAllowed ? 'block' : 'none';\n",
              "\n",
              "        async function convertToInteractive(key) {\n",
              "          const element = document.querySelector('#df-2ed5afb2-bd7d-4e44-aaf3-0d20ceb95eee');\n",
              "          const dataTable =\n",
              "            await google.colab.kernel.invokeFunction('convertToInteractive',\n",
              "                                                     [key], {});\n",
              "          if (!dataTable) return;\n",
              "\n",
              "          const docLinkHtml = 'Like what you see? Visit the ' +\n",
              "            '<a target=\"_blank\" href=https://colab.research.google.com/notebooks/data_table.ipynb>data table notebook</a>'\n",
              "            + ' to learn more about interactive tables.';\n",
              "          element.innerHTML = '';\n",
              "          dataTable['output_type'] = 'display_data';\n",
              "          await google.colab.output.renderOutput(dataTable, element);\n",
              "          const docLink = document.createElement('div');\n",
              "          docLink.innerHTML = docLinkHtml;\n",
              "          element.appendChild(docLink);\n",
              "        }\n",
              "      </script>\n",
              "    </div>\n",
              "  </div>\n",
              "  "
            ]
          },
          "metadata": {},
          "execution_count": 4
        }
      ],
      "source": [
        "df = pd.read_csv('UkraineCombinedTweetsDeduped_FEB27.csv')\n",
        "df=df[df.language==\"en\"]\n",
        "df.head()"
      ]
    },
    {
      "cell_type": "code",
      "execution_count": 7,
      "metadata": {
        "id": "3_yMl9ycKRjQ",
        "outputId": "2dc00ffb-d0db-4b2c-8d5c-0e5476ebb3dc",
        "colab": {
          "base_uri": "https://localhost:8080/"
        }
      },
      "outputs": [
        {
          "output_type": "stream",
          "name": "stdout",
          "text": [
            "['#UkraineRussiaWar Captured Russian soldiers \"They said what their own '\n",
            " 'battalion, where they are from and then told him it was just training and '\n",
            " 'did not know they are in ukraine.\" #RussianArmy #Soldiers #Україна #Ukraine '\n",
            " '#UkraineRussiaWar https://t.co/KVIPqs7TzJ https://t.co/LdlzDnxCzG']\n"
          ]
        }
      ],
      "source": [
        "# Convert to list\n",
        "data = df.text.values.tolist()\n",
        "\n",
        "# Remove Emails\n",
        "data = [re.sub('\\S*@\\S*\\s?', '', sent) for sent in data]\n",
        "\n",
        "# Remove new line characters\n",
        "data = [re.sub('\\s+', ' ', sent) for sent in data]\n",
        "\n",
        "# Remove distracting single quotes\n",
        "data = [re.sub(\"\\'\", \"\", sent) for sent in data]\n",
        "\n",
        "pprint(data[:1])"
      ]
    },
    {
      "cell_type": "code",
      "execution_count": 8,
      "metadata": {
        "id": "YMtBybEdKRjR",
        "outputId": "23cf2f6d-1651-4a0c-e3d5-c21e3811ea44",
        "colab": {
          "base_uri": "https://localhost:8080/"
        }
      },
      "outputs": [
        {
          "output_type": "stream",
          "name": "stdout",
          "text": [
            "[['captured', 'russian', 'soldiers', 'they', 'said', 'what', 'their', 'own', 'battalion', 'where', 'they', 'are', 'from', 'and', 'then', 'told', 'him', 'it', 'was', 'just', 'training', 'and', 'did', 'not', 'know', 'they', 'are', 'in', 'ukraine', 'russianarmy', 'soldiers', 'украіна', 'ukraine', 'https', 'co', 'kvipqs', 'tzj', 'https', 'co', 'ldlzdnxczg']]\n"
          ]
        }
      ],
      "source": [
        "def sent_to_words(sentences):\n",
        "    for sentence in sentences:\n",
        "        yield(gensim.utils.simple_preprocess(str(sentence), deacc=True))  # deacc=True removes punctuations\n",
        "\n",
        "data_words = list(sent_to_words(data))\n",
        "\n",
        "print(data_words[:1])"
      ]
    },
    {
      "cell_type": "code",
      "execution_count": 9,
      "metadata": {
        "id": "5bNsQ6cBKRjS",
        "outputId": "d7104518-2a4c-4a66-eff4-5d1b43ac7079",
        "colab": {
          "base_uri": "https://localhost:8080/"
        }
      },
      "outputs": [
        {
          "output_type": "stream",
          "name": "stderr",
          "text": [
            "/usr/local/lib/python3.7/dist-packages/gensim/models/phrases.py:598: UserWarning: For a faster implementation, use the gensim.models.phrases.Phraser class\n",
            "  warnings.warn(\"For a faster implementation, use the gensim.models.phrases.Phraser class\")\n"
          ]
        },
        {
          "output_type": "stream",
          "name": "stdout",
          "text": [
            "['captured', 'russian', 'soldiers', 'they', 'said', 'what', 'their', 'own', 'battalion', 'where', 'they', 'are', 'from', 'and', 'then', 'told', 'him', 'it', 'was', 'just', 'training', 'and', 'did', 'not', 'know', 'they', 'are', 'in', 'ukraine', 'russianarmy', 'soldiers', 'украіна', 'ukraine', 'https', 'co', 'kvipqs', 'tzj', 'https', 'co', 'ldlzdnxczg']\n"
          ]
        }
      ],
      "source": [
        "# Build the bigram and trigram models\n",
        "bigram = gensim.models.Phrases(data_words, min_count=5, threshold=100) # higher threshold fewer phrases.\n",
        "trigram = gensim.models.Phrases(bigram[data_words], threshold=100)  \n",
        "\n",
        "# Faster way to get a sentence clubbed as a trigram/bigram\n",
        "bigram_mod = gensim.models.phrases.Phraser(bigram)\n",
        "trigram_mod = gensim.models.phrases.Phraser(trigram)\n",
        "\n",
        "# See trigram example\n",
        "print(trigram_mod[bigram_mod[data_words[0]]])"
      ]
    },
    {
      "cell_type": "code",
      "execution_count": 10,
      "metadata": {
        "id": "AQBXJYUaKRjT",
        "outputId": "3fff2fa9-f527-474d-a925-c7139a844297",
        "colab": {
          "base_uri": "https://localhost:8080/"
        }
      },
      "outputs": [
        {
          "output_type": "stream",
          "name": "stdout",
          "text": [
            "[['captured', 'russian', 'soldiers', 'said', 'battalion', 'told', 'training', 'know', 'ukraine', 'russianarmy', 'soldiers', 'украіна', 'ukraine', 'https', 'co', 'kvipqs', 'tzj', 'https', 'co', 'ldlzdnxczg']]\n"
          ]
        }
      ],
      "source": [
        "# Define functions for stopwords, bigrams, trigrams and lemmatization\n",
        "def remove_stopwords(texts):\n",
        "    return [[word for word in simple_preprocess(str(doc)) if word not in stop_words] for doc in texts]\n",
        "\n",
        "def make_bigrams(texts):\n",
        "    return [bigram_mod[doc] for doc in texts]\n",
        "\n",
        "def make_trigrams(texts):\n",
        "    return [trigram_mod[bigram_mod[doc]] for doc in texts]\n",
        "\n",
        "def lemmatization(texts, allowed_postags=['NOUN', 'ADJ', 'VERB', 'ADV']):\n",
        "    texts_out = []\n",
        "    for sent in texts:\n",
        "        doc = nlp(\" \".join(sent)) \n",
        "        texts_out.append([token.lemma_ for token in doc if token.pos_ in allowed_postags])\n",
        "    return texts_out\n",
        "\n",
        "# Remove Stop Words\n",
        "data_words_nostops = remove_stopwords(data_words)\n",
        "\n",
        "# Form Bigrams\n",
        "data_words_bigrams = make_bigrams(data_words_nostops)\n",
        "\n",
        "# Initialize spacy 'en' model, keeping only tagger component (for efficiency)\n",
        "# python3 -m spacy download en\n",
        "#nlp = spacy.load('en', disable=['parser', 'ner'])\n",
        "\n",
        "# Do lemmatization keeping only noun, adj, vb, adv\n",
        "#data_lemmatized = lemmatization(data_words_bigrams, allowed_postags=['NOUN', 'ADJ', 'VERB', 'ADV'])\n",
        "\n",
        "print(data_words_bigrams[:1])"
      ]
    },
    {
      "cell_type": "code",
      "execution_count": 11,
      "metadata": {
        "id": "WNOU1o4mKRjU",
        "outputId": "ed6de272-5806-4a97-de13-d3570935d826",
        "colab": {
          "base_uri": "https://localhost:8080/"
        }
      },
      "outputs": [
        {
          "output_type": "stream",
          "name": "stdout",
          "text": [
            "[[(0, 1), (1, 1), (2, 2), (3, 2), (4, 1), (5, 1), (6, 1), (7, 1), (8, 1), (9, 1), (10, 2), (11, 1), (12, 1), (13, 1), (14, 2), (15, 1)]]\n"
          ]
        }
      ],
      "source": [
        "# Create Dictionary\n",
        "id2word = corpora.Dictionary(data_words_bigrams)\n",
        "\n",
        "# Create Corpus\n",
        "texts = data_words_bigrams\n",
        "\n",
        "# Term Document Frequency\n",
        "corpus = [id2word.doc2bow(text) for text in texts]\n",
        "\n",
        "# View\n",
        "print(corpus[:1])"
      ]
    },
    {
      "cell_type": "code",
      "execution_count": 12,
      "metadata": {
        "id": "b9gevpTcKRjV"
      },
      "outputs": [],
      "source": [
        "# Build LDA model\n",
        "lda_model = gensim.models.ldamodel.LdaModel(corpus=corpus,\n",
        "                                           id2word=id2word,\n",
        "                                           num_topics=20, \n",
        "                                           random_state=100,\n",
        "                                           update_every=1,\n",
        "                                           chunksize=100,\n",
        "                                           passes=10,\n",
        "                                           alpha='auto',\n",
        "                                           per_word_topics=True)"
      ]
    },
    {
      "cell_type": "code",
      "execution_count": 16,
      "metadata": {
        "id": "11CsuwdmKRjW",
        "outputId": "6b5f48b7-a935-4fd2-97c9-5ee85b7bd99f",
        "colab": {
          "base_uri": "https://localhost:8080/"
        }
      },
      "outputs": [
        {
          "output_type": "stream",
          "name": "stdout",
          "text": [
            "\n",
            "Perplexity:  -9.00292638319776\n",
            "\n",
            "Coherence Score:  0.3554454326368252\n"
          ]
        }
      ],
      "source": [
        "# Compute Perplexity\n",
        "print('\\nPerplexity: ', lda_model.log_perplexity(corpus))  # a measure of how good the model is. lower the better.\n",
        "\n",
        "# Compute Coherence Score\n",
        "coherence_model_lda = CoherenceModel(model=lda_model, texts=data_words_bigrams, dictionary=id2word, coherence='c_v')\n",
        "coherence_lda = coherence_model_lda.get_coherence()\n",
        "print('\\nCoherence Score: ', coherence_lda)"
      ]
    },
    {
      "cell_type": "code",
      "source": [
        "# Print the Keyword in the 10 topics\n",
        "pprint(lda_model.print_topics())\n",
        "doc_lda = lda_model[corpus]"
      ],
      "metadata": {
        "id": "5t15nZhp4RO9",
        "outputId": "6b7390a1-8e8a-4c51-bf8f-601e0fc4fd30",
        "colab": {
          "base_uri": "https://localhost:8080/"
        }
      },
      "execution_count": 25,
      "outputs": [
        {
          "output_type": "stream",
          "name": "stdout",
          "text": [
            "[(0,\n",
            "  '0.121*\"war\" + 0.077*\"ukrainewar\" + 0.054*\"ukrainerussia\" + 0.033*\"nuclear\" '\n",
            "  '+ 0.029*\"forces\" + 0.015*\"stopputin\" + 0.014*\"towards\" + 0.013*\"stoprussia\" '\n",
            "  '+ 0.012*\"put\" + 0.012*\"stopwar\"'),\n",
            " (1,\n",
            "  '0.091*\"one\" + 0.074*\"help\" + 0.052*\"share\" + 0.047*\"weapons\" + '\n",
            "  '0.029*\"everyone\" + 0.028*\"signed\" + 0.024*\"made\" + 0.022*\"call\" + '\n",
            "  '0.022*\"please\" + 0.019*\"freedom\"'),\n",
            " (2,\n",
            "  '0.016*\"find\" + 0.014*\"hours\" + 0.013*\"always\" + 0.013*\"history\" + '\n",
            "  '0.011*\"order\" + 0.011*\"foreign\" + 0.011*\"already\" + 0.010*\"courage\" + '\n",
            "  '0.010*\"mistake\" + 0.009*\"far\"'),\n",
            " (3,\n",
            "  '0.083*\"world\" + 0.074*\"country\" + 0.056*\"president\" + 0.052*\"zelensky\" + '\n",
            "  '0.026*\"international\" + 0.024*\"would\" + 0.024*\"go\" + 0.023*\"man\" + '\n",
            "  '0.021*\"europe\" + 0.020*\"leader\"'),\n",
            " (4,\n",
            "  '0.033*\"back\" + 0.025*\"new\" + 0.025*\"air\" + 0.024*\"children\" + 0.023*\"shot\" '\n",
            "  '+ 0.020*\"fighter_jets\" + 0.019*\"make\" + 0.019*\"planes\" + 0.015*\"defense\" + '\n",
            "  '0.014*\"two\"'),\n",
            " (5,\n",
            "  '0.278*\"anonymous\" + 0.093*\"state\" + 0.052*\"oprussia\" + 0.040*\"tv\" + '\n",
            "  '0.023*\"head\" + 0.019*\"channels\" + 0.019*\"hacked\" + 0.015*\"truth\" + '\n",
            "  '0.014*\"tango\" + 0.014*\"yacht\"'),\n",
            " (6,\n",
            "  '0.067*\"message\" + 0.040*\"life\" + 0.040*\"whole\" + 0.035*\"ive\" + 0.034*\"ever\" '\n",
            "  '+ 0.032*\"entire\" + 0.031*\"well\" + 0.030*\"might\" + 0.027*\"people\" + '\n",
            "  '0.026*\"understand\"'),\n",
            " (7,\n",
            "  '0.051*\"skies\" + 0.039*\"nkjip_upg\" + 0.036*\"loud\" + 0.028*\"near\" + '\n",
            "  '0.020*\"watch\" + 0.019*\"according\" + 0.019*\"usa\" + 0.018*\"equipment\" + '\n",
            "  '0.012*\"short_range\" + 0.012*\"africans\"'),\n",
            " (8,\n",
            "  '0.064*\"kiev\" + 0.051*\"hour\" + 0.046*\"rambo\" + 0.031*\"peace\" + '\n",
            "  '0.025*\"puppy_alone\" + 0.025*\"spot_freezing\" + 0.025*\"stands_guard\" + '\n",
            "  '0.025*\"theyve_named\" + 0.020*\"ueifgpzyd\" + 0.016*\"may\"'),\n",
            " (9,\n",
            "  '0.033*\"putins\" + 0.027*\"act\" + 0.024*\"bold\" + 0.024*\"moscow_underground\" + '\n",
            "  '0.023*\"around\" + 0.019*\"tank\" + 0.015*\"anti\" + 0.014*\"show\" + 0.014*\"way\" + '\n",
            "  '0.014*\"missiles\"'),\n",
            " (10,\n",
            "  '0.156*\"people\" + 0.057*\"ukraineinvasion\" + 0.029*\"going\" + 0.029*\"please\" + '\n",
            "  '0.026*\"need\" + 0.026*\"using\" + 0.026*\"warinukraine\" + 0.023*\"fight\" + '\n",
            "  '0.021*\"say\" + 0.020*\"little\"'),\n",
            " (11,\n",
            "  '0.122*\"amp\" + 0.041*\"time\" + 0.038*\"live\" + 0.018*\"end\" + 0.017*\"kharkiv\" + '\n",
            "  '0.016*\"volunteers\" + 0.016*\"true\" + 0.014*\"kfldgvnaqx\" + 0.014*\"citizens\" + '\n",
            "  '0.013*\"last\"'),\n",
            " (12,\n",
            "  '0.197*\"government\" + 0.048*\"protest\" + 0.029*\"legend\" + 0.025*\"investments\" '\n",
            "  '+ 0.024*\"executive_order\" + 0.022*\"ghost\" + 0.020*\"hokul_democrat\" + '\n",
            "  '0.020*\"governor_kathy\" + 0.020*\"ghostofkyiv\" + 0.015*\"absolute_fucking\"'),\n",
            " (13,\n",
            "  '0.046*\"russias\" + 0.028*\"slavaukraini\" + 0.025*\"european\" + '\n",
            "  '0.019*\"aircraft\" + 0.016*\"russiaukraine\" + 0.016*\"students\" + '\n",
            "  '0.015*\"trying\" + 0.014*\"denmark_becomes\" + 0.014*\"withdrawing\" + '\n",
            "  '0.014*\"leave\"'),\n",
            " (14,\n",
            "  '0.151*\"ukrainian\" + 0.068*\"russianarmy\" + 0.037*\"army\" + 0.035*\"soldiers\" + '\n",
            "  '0.035*\"know\" + 0.030*\"fighting\" + 0.028*\"troops\" + 0.024*\"russians\" + '\n",
            "  '0.019*\"dont\" + 0.018*\"want\"'),\n",
            " (15,\n",
            "  '0.187*\"kyiv\" + 0.024*\"every\" + 0.021*\"night\" + 0.020*\"im\" + '\n",
            "  '0.018*\"happening\" + 0.017*\"situation\" + 0.017*\"armed\" + 0.016*\"zelenskyy\" + '\n",
            "  '0.015*\"leadership\" + 0.014*\"losing\"'),\n",
            " (16,\n",
            "  '0.064*\"website\" + 0.036*\"take\" + 0.036*\"military\" + 0.026*\"ukrainians\" + '\n",
            "  '0.022*\"post\" + 0.017*\"outside\" + 0.016*\"first\" + 0.016*\"countries\" + '\n",
            "  '0.016*\"sanctions\" + 0.016*\"must\"'),\n",
            " (17,\n",
            "  '0.213*\"ukraine\" + 0.184*\"co\" + 0.184*\"https\" + 0.084*\"russia\" + '\n",
            "  '0.066*\"russian\" + 0.048*\"putin\" + 0.012*\"support\" + 0.011*\"breaking\" + '\n",
            "  '0.009*\"invasion\" + 0.008*\"today\"'),\n",
            " (18,\n",
            "  '0.061*\"eu\" + 0.060*\"nato\" + 0.037*\"see\" + 0.034*\"let\" + 0.027*\"seen\" + '\n",
            "  '0.022*\"years\" + 0.022*\"needs\" + 0.018*\"part\" + 0.016*\"berlin\" + '\n",
            "  '0.016*\"banning\"'),\n",
            " (19,\n",
            "  '0.064*\"us\" + 0.056*\"like\" + 0.042*\"within\" + 0.032*\"putinhitler\" + '\n",
            "  '0.029*\"resistance\" + 0.022*\"never\" + 0.020*\"vladimir\" + 0.020*\"rt\" + '\n",
            "  '0.020*\"video\" + 0.018*\"ukrania\"')]\n"
          ]
        }
      ]
    },
    {
      "cell_type": "code",
      "execution_count": 24,
      "metadata": {
        "id": "YUmx7QwHKRjX",
        "outputId": "c65ebae4-f156-42a3-b892-7927349b8056",
        "colab": {
          "base_uri": "https://localhost:8080/",
          "height": 916
        }
      },
      "outputs": [
        {
          "output_type": "stream",
          "name": "stderr",
          "text": [
            "/usr/local/lib/python3.7/dist-packages/pyLDAvis/_prepare.py:247: FutureWarning: In a future version of pandas all arguments of DataFrame.drop except for the argument 'labels' will be keyword-only\n",
            "  by='saliency', ascending=False).head(R).drop('saliency', 1)\n"
          ]
        },
        {
          "output_type": "execute_result",
          "data": {
            "text/plain": [
              "PreparedData(topic_coordinates=              x         y  topics  cluster       Freq\n",
              "topic                                                \n",
              "17    -0.459504 -0.033902       1        1  25.416374\n",
              "16    -0.045376  0.107119       2        1   6.925656\n",
              "0     -0.005721  0.063144       3        1   6.028977\n",
              "14     0.004752 -0.130787       4        1   5.716558\n",
              "3     -0.007912  0.070132       5        1   5.161878\n",
              "19     0.026197  0.075820       6        1   4.486988\n",
              "11     0.038315  0.056129       7        1   4.230355\n",
              "10     0.072747 -0.218461       8        1   4.151607\n",
              "2      0.047353  0.082500       9        1   4.011242\n",
              "18     0.035888  0.087051      10        1   3.998509\n",
              "9      0.012248  0.070299      11        1   3.960995\n",
              "15     0.041520  0.042479      12        1   3.665277\n",
              "13     0.043495  0.053993      13        1   3.606586\n",
              "8      0.012496  0.035832      14        1   3.510912\n",
              "4      0.046798  0.061015      15        1   3.244766\n",
              "1      0.067810 -0.059330      16        1   2.856011\n",
              "7      0.044784  0.067499      17        1   2.796919\n",
              "6      0.066086 -0.284464      18        1   2.464683\n",
              "12     0.018879 -0.022842      19        1   1.911674\n",
              "5     -0.060856 -0.123227      20        1   1.854032, topic_info=              Term           Freq          Total Category  logprob  loglift\n",
              "14         ukraine  205400.000000  205400.000000  Default  30.0000  30.0000\n",
              "2               co  177823.000000  177823.000000  Default  29.0000  29.0000\n",
              "3            https  177691.000000  177691.000000  Default  28.0000  28.0000\n",
              "28          russia   80752.000000   80752.000000  Default  27.0000  27.0000\n",
              "49       ukrainian   34082.000000   34082.000000  Default  26.0000  26.0000\n",
              "...            ...            ...            ...      ...      ...      ...\n",
              "108074       nn_dw     472.371279     489.448607  Topic20  -5.0048   3.9523\n",
              "108070  axcqwplxjm     472.371246     489.448574  Topic20  -5.0048   3.9523\n",
              "108071        epyp     472.371246     489.448574  Topic20  -5.0048   3.9523\n",
              "108072  gewxmfknfg     472.371246     489.448574  Topic20  -5.0048   3.9523\n",
              "108062  uezkz_hhpb     543.620850     575.514718  Topic20  -4.8643   3.9308\n",
              "\n",
              "[672 rows x 6 columns], token_table=       Topic      Freq              Term\n",
              "term                                    \n",
              "6491      17  0.998354         abandoned\n",
              "2834      19  0.998683          absolute\n",
              "60475     15  0.002827  absolute_fucking\n",
              "60475     19  0.996203  absolute_fucking\n",
              "481       18  0.999290            access\n",
              "...      ...       ...               ...\n",
              "988        8  0.998884             youre\n",
              "306        5  0.999952          zelensky\n",
              "716       12  0.999525         zelenskyy\n",
              "897       18  0.999623            россия\n",
              "15        16  0.999764           украіна\n",
              "\n",
              "[906 rows x 3 columns], R=30, lambda_step=0.01, plot_opts={'xlab': 'PC1', 'ylab': 'PC2'}, topic_order=[18, 17, 1, 15, 4, 20, 12, 11, 3, 19, 10, 16, 14, 9, 5, 2, 8, 7, 13, 6])"
            ],
            "text/html": [
              "\n",
              "<link rel=\"stylesheet\" type=\"text/css\" href=\"https://cdn.jsdelivr.net/gh/bmabey/pyLDAvis@3.3.1/pyLDAvis/js/ldavis.v1.0.0.css\">\n",
              "\n",
              "\n",
              "<div id=\"ldavis_el11021403559399068969393701006\"></div>\n",
              "<script type=\"text/javascript\">\n",
              "\n",
              "var ldavis_el11021403559399068969393701006_data = {\"mdsDat\": {\"x\": [-0.4595043230092749, -0.04537564300640299, -0.005721075741750277, 0.004751655106973356, -0.0079123080404985, 0.02619704019944283, 0.0383148267530434, 0.07274744925760163, 0.04735313941328225, 0.0358883729430245, 0.012248499642686615, 0.041520216386316734, 0.043495209209316966, 0.01249567391138635, 0.04679814855688752, 0.06781015081729895, 0.044784245580858716, 0.0660861205347144, 0.018878652506035296, -0.06085605102094285], \"y\": [-0.033902017551996136, 0.10711883799909996, 0.06314412303017253, -0.13078744118905986, 0.07013177934899523, 0.07581992169376323, 0.05612896534488434, -0.2184607885352799, 0.082499849116383, 0.08705083507956908, 0.07029858864445916, 0.04247925991824215, 0.05399342907904344, 0.035832390571570984, 0.06101529263855541, -0.05932968728562604, 0.06749942264120301, -0.28446367472868944, -0.022841734162346247, -0.123227351652945], \"topics\": [1, 2, 3, 4, 5, 6, 7, 8, 9, 10, 11, 12, 13, 14, 15, 16, 17, 18, 19, 20], \"cluster\": [1, 1, 1, 1, 1, 1, 1, 1, 1, 1, 1, 1, 1, 1, 1, 1, 1, 1, 1, 1], \"Freq\": [25.41637412535847, 6.925655632462002, 6.028977023173761, 5.716557892621648, 5.161877517277333, 4.48698837576889, 4.23035527212341, 4.15160699405829, 4.011242035219562, 3.998508577908863, 3.9609953855816835, 3.6652774589255137, 3.6065864560024306, 3.510911686401039, 3.2447660627013493, 2.8560113320141434, 2.7969192281768587, 2.4646834469707333, 1.9116737015436507, 1.8540317957103685]}, \"tinfo\": {\"Term\": [\"ukraine\", \"co\", \"https\", \"russia\", \"ukrainian\", \"russian\", \"kyiv\", \"anonymous\", \"war\", \"people\", \"putin\", \"amp\", \"government\", \"ukrainewar\", \"world\", \"website\", \"country\", \"russianarmy\", \"one\", \"ukrainerussia\", \"us\", \"president\", \"zelensky\", \"eu\", \"like\", \"nato\", \"ukraineinvasion\", \"help\", \"kiev\", \"state\", \"ukraine\", \"co\", \"https\", \"russia\", \"putin\", \"support\", \"breaking\", \"invasion\", \"today\", \"says\", \"right\", \"belarus\", \"still\", \"flying\", \"news\", \"many\", \"stand\", \"ukriane\", \"refugees\", \"join\", \"rally\", \"stop\", \"russian\", \"day\", \"border\", \"new_york\", \"toronto\", \"brave\", \"city\", \"destroyed\", \"website\", \"take\", \"military\", \"ukrainians\", \"post\", \"outside\", \"first\", \"countries\", \"sanctions\", \"must\", \"sometimes\", \"poland\", \"media\", \"get\", \"another\", \"civilians\", \"lets\", \"business\", \"force\", \"west\", \"banks\", \"could\", \"biden\", \"ordering\", \"land\", \"office\", \"free\", \"invaders\", \"listening\", \"thank\", \"ukrainewar\", \"ukrainerussia\", \"nuclear\", \"forces\", \"stopputin\", \"towards\", \"stoprussia\", \"put\", \"stopwar\", \"hes\", \"units\", \"statement\", \"real\", \"update\", \"uk\", \"picture\", \"money\", \"alert\", \"germany\", \"escalation\", \"captured\", \"claim\", \"major\", \"son\", \"canada\", \"stuck\", \"save\", \"ukraina\", \"kiyv\", \"danger\", \"war\", \"russianarmy\", \"army\", \"soldiers\", \"know\", \"fighting\", \"troops\", \"russians\", \"dont\", \"want\", \"even\", \"said\", \"moscow\", \"home\", \"attack\", \"un\", \"long\", \"reported\", \"withdrawal\", \"killed\", \"stands\", \"directions\", \"aid\", \"humanitarian\", \"thing\", \"false\", \"coming\", \"lost\", \"sons\", \"security_council\", \"forgive\", \"advisor\", \"ukrainian\", \"completely_halted\", \"world\", \"country\", \"president\", \"zelensky\", \"international\", \"would\", \"go\", \"man\", \"europe\", \"leader\", \"also\", \"good\", \"nukes\", \"strong\", \"think\", \"since\", \"ukraines\", \"china\", \"volodymyr\", \"leaders\", \"negotiations\", \"wwiii\", \"jewish\", \"guy\", \"spread\", \"survived\", \"possible\", \"invade\", \"nowar\", \"upon\", \"meal\", \"us\", \"like\", \"within\", \"putinhitler\", \"resistance\", \"never\", \"vladimir\", \"rt\", \"video\", \"ukrania\", \"advance\", \"days\", \"looks\", \"came\", \"forget\", \"sitting\", \"eiy_ypdvm\", \"expect\", \"control\", \"yl\", \"seems\", \"working\", \"something\", \"hate\", \"week\", \"become\", \"david\", \"nazi\", \"germans\", \"built\", \"touches\", \"amp\", \"time\", \"live\", \"end\", \"kharkiv\", \"volunteers\", \"true\", \"citizens\", \"last\", \"via\", \"friends\", \"legendary\", \"sound\", \"conflict\", \"posturing\", \"watching\", \"currently\", \"taken\", \"group\", \"reporting\", \"civilian\", \"parliament\", \"old\", \"suffering\", \"try\", \"sunday\", \"immediately\", \"crowd\", \"tigray\", \"yemen\", \"kfldgvnaqx\", \"remained_silent\", \"false_charges\", \"ukraineinvasion\", \"going\", \"need\", \"using\", \"warinukraine\", \"fight\", \"say\", \"little\", \"give\", \"soldier\", \"ministry\", \"together\", \"come\", \"invading\", \"security\", \"tell\", \"turn\", \"confirmed\", \"thousands\", \"latest\", \"meanwhile\", \"start\", \"chechen\", \"family\", \"born\", \"molotov_cocktails\", \"phone\", \"websites\", \"legion\", \"youre\", \"steals\", \"people\", \"please\", \"find\", \"hours\", \"always\", \"history\", \"order\", \"foreign\", \"already\", \"courage\", \"mistake\", \"far\", \"hitler\", \"sweden\", \"food\", \"nation\", \"democracy\", \"remember\", \"opposition\", \"everywhere\", \"making\", \"political\", \"hard\", \"retweet\", \"almost\", \"wrong_side\", \"nothing\", \"cost\", \"late\", \"joined\", \"deeply\", \"bullies\", \"eu\", \"nato\", \"see\", \"let\", \"seen\", \"years\", \"needs\", \"part\", \"berlin\", \"banning\", \"trump\", \"admission\", \"western\", \"view\", \"really\", \"nuclear_warheads\", \"bravery\", \"worldwar\", \"pray\", \"continue\", \"nazis\", \"hackers\", \"afghanistan\", \"marching\", \"allow\", \"others\", \"iraq\", \"fear\", \"explain\", \"plans\", \"putins\", \"act\", \"bold\", \"around\", \"tank\", \"anti\", \"show\", \"way\", \"missiles\", \"top\", \"much\", \"work\", \"tanks\", \"court\", \"yet\", \"convoy\", \"ago\", \"destroy\", \"wow\", \"getting\", \"america\", \"vehicles\", \"columns\", \"stopped\", \"supportukraine\", \"provisional_measures\", \"israel\", \"face\", \"called\", \"donate\", \"mvzc_wscuj\", \"moscow_underground\", \"filed_lawsuit\", \"kyiv\", \"every\", \"night\", \"im\", \"happening\", \"situation\", \"armed\", \"zelenskyy\", \"leadership\", \"losing\", \"anyone\", \"things\", \"region\", \"keep\", \"women\", \"used\", \"battle\", \"reality\", \"someone\", \"emergency\", \"standing\", \"tomorrow\", \"lot\", \"broadcasting\", \"talk\", \"moving\", \"action\", \"maybe\", \"wrong\", \"pm\", \"daily_routine\", \"occasional_blasts\", \"ringing_silence\", \"sirens_crawling\", \"jvc_fkmpo\", \"russias\", \"slavaukraini\", \"european\", \"aircraft\", \"russiaukraine\", \"students\", \"trying\", \"withdrawing\", \"leave\", \"official\", \"provide\", \"oil\", \"black\", \"per\", \"information\", \"supporting\", \"missile\", \"energy\", \"read\", \"airspace\", \"hi\", \"general_assembly\", \"year_old\", \"fire\", \"indian\", \"showed\", \"sea\", \"move\", \"osint\", \"fine\", \"denmark_becomes\", \"foreign_brigade\", \"kiev\", \"hour\", \"rambo\", \"peace\", \"puppy_alone\", \"spot_freezing\", \"stands_guard\", \"theyve_named\", \"ueifgpzyd\", \"may\", \"justice\", \"got\", \"tonight\", \"cities\", \"soon\", \"india\", \"times\", \"morning\", \"session\", \"safe\", \"less\", \"hero\", \"plane\", \"respect\", \"defenders\", \"happen\", \"nations\", \"god\", \"vs\", \"romania\", \"back\", \"new\", \"air\", \"children\", \"shot\", \"fighter_jets\", \"make\", \"planes\", \"defense\", \"two\", \"pilot\", \"named\", \"invaded\", \"look\", \"arms\", \"silence\", \"thousand\", \"sent\", \"sending\", \"ussr\", \"million\", \"words\", \"kherson\", \"streets\", \"fake\", \"feb\", \"spend\", \"killing\", \"farmer\", \"yes\", \"one\", \"help\", \"share\", \"weapons\", \"everyone\", \"signed\", \"made\", \"call\", \"freedom\", \"\\u0443\\u043a\\u0440\\u0430\\u0456\\u043d\\u0430\", \"safety\", \"swift\", \"follow\", \"told\", \"hope\", \"win\", \"united\", \"navalny\", \"system\", \"without\", \"ducky_city\", \"duckycity_saveukraine\", \"ykgrgzdn\", \"ban\", \"leaked\", \"battalion\", \"largest\", \"de_arresting\", \"let_cops\", \"legendary_political\", \"please\", \"skies\", \"loud\", \"near\", \"watch\", \"according\", \"usa\", \"equipment\", \"short_range\", \"africans\", \"ucrania\", \"big\", \"hit\", \"massive\", \"local_residents\", \"supply\", \"report\", \"sun\", \"explosion\", \"yo\", \"god_bless\", \"bayraktar_tb\", \"abandoned\", \"bayraktar\", \"completely\", \"singing_everything\", \"footage\", \"mriya\", \"story\", \"heard\", \"bucha\", \"nkjip_upg\", \"land_mines\", \"artillery_shells\", \"non_strategic\", \"doctrine_calls\", \"message\", \"life\", \"whole\", \"ive\", \"ever\", \"entire\", \"well\", \"might\", \"understand\", \"address\", \"crucial\", \"racism\", \"\\u0440\\u043e\\u0441\\u0441\\u0438\\u044f\", \"moving_speech\", \"womogqxtwx\", \"aggression\", \"white\", \"cyber\", \"done\", \"chinese\", \"skin\", \"cant\", \"access\", \"column\", \"means\", \"announced\", \"chernihiv\", \"speak\", \"grow\", \"blocked\", \"people\", \"ukrainian\", \"government\", \"protest\", \"legend\", \"investments\", \"ghost\", \"ghostofkyiv\", \"proud\", \"mr\", \"capital\", \"jets\", \"kill\", \"arrested\", \"novosibirsk\", \"executive_order\", \"close\", \"federation\", \"collective\", \"wars\", \"didnt\", \"vajtds\", \"officially\", \"several\", \"coverage\", \"absolute\", \"evening\", \"suffer\", \"satellite_images\", \"imagine\", \"absolute_fucking\", \"operations\", \"governor_kathy\", \"hokul_democrat\", \"wukxg_engj\", \"anonymous\", \"state\", \"oprussia\", \"tv\", \"head\", \"channels\", \"hacked\", \"truth\", \"yacht\", \"happens\", \"broadcast\", \"opkremlin_fckputin\", \"vbq_pqnjpc\", \"opkremlin\", \"tango\", \"stay_tuned\", \"songs\", \"bp\", \"approximately_minutes\", \"completely_overtake\", \"experts_estimated\", \"hd_sqqru\", \"minimal_losses\", \"inside\", \"ye_fkp\", \"biggest_energy\", \"hcrlsslp\", \"ri_gjeft\", \"official_announcement\", \"ehyhvfjjxc\", \"mwtxam_dw\", \"case_scenarios\", \"describing_worst\", \"kugxdow\", \"nn_dw\", \"axcqwplxjm\", \"epyp\", \"gewxmfknfg\", \"uezkz_hhpb\"], \"Freq\": [205400.0, 177823.0, 177691.0, 80752.0, 34082.0, 63880.0, 26101.0, 19595.0, 27802.0, 27067.0, 46418.0, 19684.0, 14316.0, 17681.0, 16259.0, 16825.0, 14547.0, 14702.0, 9929.0, 12357.0, 10853.0, 11026.0, 10130.0, 9286.0, 9496.0, 9083.0, 9057.0, 8067.0, 8522.0, 6542.0, 205399.30117047942, 177822.774178597, 177690.50347917096, 80751.8375901146, 46417.748491316626, 11810.006575749567, 10765.450098485442, 8508.592981210715, 7461.205767800733, 6505.027166378709, 5896.605062575335, 5474.060021335044, 5145.3825504354445, 5078.333900466306, 4856.991918504444, 4703.158159560341, 4659.400240002406, 4578.699302600666, 4421.306775450318, 3831.687145112667, 3566.9083151747827, 3425.5115832289393, 63861.436230061336, 3199.0974347290007, 2947.988879427185, 2770.1959406229817, 3306.4965533990094, 2697.171941661603, 2643.7137481131417, 2518.047724960686, 16824.26567418898, 9525.13289373897, 9434.754952985633, 6765.549742603725, 5723.556724011582, 4511.618122733003, 4328.810068522291, 4300.8290588492655, 4299.975743187041, 4144.043946493896, 4094.0744969032667, 3957.965012287863, 3894.5728730213687, 3570.889558869785, 3286.8418014757794, 2888.9477170339896, 2879.2904481364358, 2817.372618756197, 2709.7840215863284, 2535.9928819292904, 2505.678610217196, 2427.0385385832083, 2421.384158263131, 2420.731795743648, 2281.3617238548673, 2200.0668651534247, 2051.9313152042055, 1969.6938147179417, 1957.1944067070478, 1909.9547340151892, 17680.35920331903, 12356.822697472388, 7642.707134207285, 6681.196405178767, 3402.34184201389, 3291.77823095804, 3001.4474441112247, 2811.0085729469893, 2747.0682150678003, 2482.641724458705, 2285.6103512369195, 2025.4008688529093, 2010.4133907916491, 1928.310691877268, 1812.6600893139985, 1765.0947453637255, 1721.3670986341267, 1707.4102456922772, 1674.5217629177619, 1656.0376048689843, 1582.7108996489087, 1483.2594156697082, 1436.086076202341, 1407.1223316438877, 1378.3163488895752, 1357.2457079288263, 1325.7754813732804, 1272.381377432833, 1224.8352337021308, 1167.2447084386934, 27724.552147231254, 14701.200558182718, 8047.353259083368, 7706.552994180184, 7517.0798050723715, 6412.012915721843, 6147.991565048961, 5199.095972098354, 4197.74168553233, 3920.7375485373614, 3685.8749752215085, 3613.9143896533255, 3521.826055336382, 3456.7697180425666, 3180.7642413584663, 2906.914268881903, 2850.665439912072, 2718.5394645194847, 2512.254718102323, 2398.1135286605745, 2079.614317424111, 2002.701291023239, 1994.3112902709845, 1421.528526086005, 1363.8086099963064, 1331.2469638769562, 1196.0132474096224, 1148.9474610694533, 1109.916672677088, 1044.5261675012482, 1000.418737864836, 1940.2015807638702, 32780.153885403655, 1323.6861121249547, 16258.2199194459, 14546.608549648641, 11025.131433814919, 10129.54091671771, 5176.149211745722, 4771.505087492053, 4768.467561509286, 4607.575490722748, 4026.037762234177, 3918.288697141329, 3692.195208735047, 3045.0211648898116, 2984.9413485061937, 2805.1534185513333, 2801.9984464346567, 2234.70019407901, 2188.676104511499, 2086.333397299825, 1935.240681232196, 1840.2212792973144, 1780.4660379991665, 1417.6434226410595, 1300.775295404337, 1262.5695931446642, 1133.7363898674655, 1107.1841569539451, 1073.1267873074783, 1071.8623691706348, 1062.3589129539562, 972.1862188935615, 1317.436572920635, 10852.757640967144, 9495.908423693805, 7141.9272722251835, 5457.302602709045, 4984.282479204548, 3672.617663313461, 3453.9413935132366, 3383.0390392594554, 3337.17826746584, 3048.4471704672005, 2384.22967468951, 2332.7969443943916, 1856.9494020435172, 1826.0199040117514, 1716.0887542087178, 1392.085734119439, 1104.9953910717463, 1097.0455777660673, 1080.801018122153, 1040.24888080956, 1031.752334754695, 1026.2825462906833, 1024.2022309585484, 1019.2336869519721, 988.1850302362325, 917.7307316868806, 806.7612104072464, 800.1701712753821, 790.8918299375229, 744.6054687336584, 804.3354857253645, 19683.6884119786, 6609.625703633973, 6060.636025338348, 2814.038464873923, 2755.07920718017, 2622.851988649434, 2589.5692996688913, 2303.183273758181, 2069.366029269226, 1994.3409905825624, 1929.701692080655, 1565.9353827323123, 1564.6279778985156, 1542.6586668122593, 1498.6561264047991, 1443.8900246767341, 1353.3410879257542, 1274.76012963446, 1075.628556929433, 1061.51138395392, 1010.2137820431101, 1007.2495177631396, 949.5678763112525, 921.7933823924479, 864.8150660621083, 857.7619807339169, 836.8375905822058, 813.6676046422875, 804.00165563492, 797.4763822421497, 2315.872914537964, 911.8852326727971, 815.2032888866111, 9056.300054514753, 4644.8733182697015, 4164.099697515866, 4089.4825837315752, 4050.7819559746226, 3552.8163481833562, 3291.485746440566, 3133.0211899803026, 2523.334696947968, 2470.029665122424, 2400.07046511087, 2110.97836233939, 2056.2636310606285, 2016.7181532041075, 1956.206848246201, 1912.1186300612248, 1868.2564985226122, 1606.9542494261816, 1436.405001800786, 1421.320071793108, 1358.1976790818153, 1311.1294949309654, 1256.5217104218932, 1253.4352384010401, 1199.863060008627, 1135.6531302973162, 1134.378509902793, 1062.4226518964067, 1028.8482707442934, 994.1654186434246, 1192.751613991422, 24548.552112666017, 4538.118700193649, 2404.058622035894, 2063.031095207976, 1956.1890510226526, 1947.69945060868, 1734.9733023369085, 1701.3768427838672, 1675.469878690382, 1515.7796035324163, 1512.3987804156436, 1446.463574632443, 1360.2776372257765, 1357.6763380418859, 1342.5948493375079, 1324.8467699326466, 1251.237114126322, 1172.9533663914158, 1158.741319393314, 1156.030302073932, 1154.1804940522122, 1137.6163201688676, 1115.3345965651383, 1092.2680263505438, 1068.713047204222, 1002.6969367156785, 973.9307719477624, 902.8261813073946, 888.7716855775919, 884.4058121887505, 884.0369860890429, 883.7546002797806, 9285.632548033158, 9082.67834286998, 5640.226216985497, 5203.717454968807, 4031.656184416431, 3372.434487125246, 3270.498399076553, 2729.8138018027053, 2500.0774267664788, 2491.806067208243, 2400.44277447855, 2382.0120460917205, 1935.7124901976727, 1659.078666663792, 1569.049742596325, 1481.603248475093, 1335.2835204349244, 1282.3868602262073, 1265.2899345515827, 1234.5272966926996, 1148.106799215952, 1139.1165416434262, 1113.2331004038683, 936.0250936001345, 935.0771980585607, 918.063396293284, 844.1010858870461, 822.3499994702324, 806.6044917022192, 797.0719125219834, 4960.192436442216, 4107.064267931167, 3577.556235605785, 3489.206037295524, 2883.425402334037, 2271.178621395626, 2173.300760080351, 2141.7092345543915, 2043.3352064909848, 1938.157807254043, 1907.653643771023, 1770.5650138238032, 1755.3814703703827, 1750.9688099942723, 1713.351101040086, 1640.641227943743, 1634.9154076062637, 1443.8805574080786, 1370.1784909755706, 1325.025915294601, 1230.1655607365371, 1133.2074299865842, 1131.200968098765, 1116.436573419437, 1115.2077898372702, 1056.7854867656947, 1055.6923080786742, 1046.37348362019, 1005.0389390981136, 962.2355868254591, 1949.5578690128118, 3538.104251444593, 1143.0093162240048, 26100.412308180934, 3398.2792841515457, 2957.307100806515, 2774.3059053213306, 2447.5433284519063, 2425.822085207776, 2307.8282059597623, 2173.089133692409, 2048.535096068183, 1959.5432099657535, 1779.7640546644373, 1779.4378689758157, 1704.0709471464586, 1535.6092031273768, 1486.4554192299133, 1483.2695642576255, 1409.6191702966216, 1361.3325345161063, 1313.5728539852412, 1209.8784884204474, 1209.3864214213895, 1199.0556083631493, 1109.870604769524, 1060.2327950311317, 1059.4028048465054, 938.44335945011, 918.3568058359552, 910.5125912330232, 896.2192381144987, 881.4602760010828, 1073.7832488954114, 1073.7832488954114, 1073.7832488954114, 1073.7832488954114, 1026.3472898272896, 6352.577530317678, 3858.0740185973004, 3381.8500431377906, 2585.6413131091394, 2228.061440179804, 2146.2921726037625, 2041.3717405828484, 1964.5073937064135, 1903.4826455590307, 1720.352631476831, 1628.8957818040226, 1614.10968050889, 1498.0903244019037, 1419.107752158032, 1303.132424714244, 1239.5907684636807, 1207.182609486189, 1197.5176160079325, 1176.4469016136654, 1125.1113946141265, 1091.0536283888046, 1069.8832433106015, 1065.4597026619633, 1054.6164638707255, 1029.176127987824, 1025.6999055041745, 995.8200127487755, 950.0725726346421, 911.3800557966434, 892.7829227485836, 1972.6733707269093, 1845.53671335269, 8521.18820270237, 6815.060319208038, 6101.090837968256, 4164.931051223608, 3294.801104785646, 3294.801104785646, 3294.765573903055, 3294.765573903055, 2730.3311663628706, 2111.2162213209303, 1766.3277584816951, 1674.3236438578913, 1669.9386857042455, 1414.2455342562728, 1313.7213376080135, 1268.056823680729, 1171.1463414129446, 1069.546279578529, 1041.1601481175292, 921.5739435436727, 921.4403921493173, 901.7803224447183, 871.4517325405144, 866.631707425908, 863.8613545715555, 855.8764098784358, 801.9788562491685, 799.882782643992, 773.1582168795563, 731.9046259816574, 4051.1048385089193, 3130.4062284994825, 3020.543588080453, 2953.2679110168124, 2782.41417709319, 2496.0989019782237, 2326.3457968546054, 2298.5744958291707, 1900.3600840479733, 1735.4792075002133, 1689.2314420731227, 1561.813393400323, 1539.969367690079, 1499.18754579032, 1353.939792785802, 1173.5958049405074, 1170.633889527018, 1133.05578611323, 1124.3629312126334, 1081.5829617010995, 1080.7969294911236, 1079.9103182253577, 1046.7315151559217, 1043.217792730872, 1013.7971559332633, 997.5118452995271, 971.2617450847806, 855.1837553197646, 820.3006194830365, 799.5204239570654, 9928.171990442195, 8066.786936357962, 5669.191627892451, 5080.818161099398, 3151.224775050939, 3022.4670564414578, 2579.7825232970586, 2438.5432685124983, 2095.795915303497, 2082.548545232618, 1731.782270413168, 1728.1202544395296, 1700.8697864180142, 1672.6579330902503, 1665.3977711643709, 1609.1282823136714, 1556.1571949793538, 1194.1067447656965, 1140.7824521706473, 1089.1964953952954, 952.7380936205843, 952.7380936205843, 952.7380936205843, 760.5295006295856, 659.6220420938203, 613.185353143195, 591.0324606743421, 570.5485767551259, 570.5485767551259, 471.88470431116843, 2414.4840782373, 5427.758942797736, 3801.561472636456, 2959.714763320487, 2151.966698107232, 2065.0939252174367, 2012.8152361565342, 1865.815715994385, 1318.0489048245854, 1311.1466950875829, 1233.1509629967497, 1145.5526470321208, 1039.5028136424826, 994.5463595279124, 894.9712879772811, 848.5625600828572, 742.8183930124966, 737.7198966214005, 737.6528450004485, 716.5050606597077, 712.053971174085, 700.3256777200388, 668.1472336907004, 651.2582911991259, 649.9209701244174, 634.260185699566, 579.385386535336, 578.029657192735, 567.4651918369709, 551.8790796601023, 524.3545129707496, 4151.737400170824, 1246.60295321288, 721.3065505349703, 721.2250988980056, 721.2250988980056, 6264.01761397138, 3721.1144539655306, 3714.954425639347, 3291.091590837186, 3175.292267997296, 3016.3075115531888, 2888.801239422086, 2763.1965594535172, 2397.9783594822516, 2148.3414498611337, 2139.2261219559905, 2032.7312047963483, 1867.7552643861131, 1673.2066180492104, 1671.3765405433116, 1620.8737621573594, 1207.9811012570751, 1165.96824638269, 1149.586331659424, 1090.232219106908, 1074.6453380542373, 984.2057229482276, 956.730140720895, 926.4760396572857, 865.0167798098123, 843.8975423624272, 799.2736176038873, 724.2253956202455, 667.2256414984619, 597.7677725518059, 2517.8201791079505, 1301.5435521071622, 14315.305258073415, 3462.859475038753, 2116.3623510431485, 1818.4963227735284, 1589.2639675610124, 1440.2493062643289, 1008.6183718973318, 955.5306025686822, 924.0735136916273, 895.4953159182737, 882.6161694910061, 692.1390229959362, 690.016737944889, 1741.3574100718656, 675.9946665408095, 631.6957711149907, 582.0878484708896, 558.4004645121051, 553.2932214560996, 538.6229784653835, 436.1761513712838, 433.27821828243987, 391.4692568925745, 390.55185937034895, 374.2842542582767, 337.22154994319317, 327.9182380403235, 315.6541172930495, 1057.2961121695025, 268.0789011961756, 1440.8439032426775, 1440.8439032426775, 450.0334740904068, 19594.515833787107, 6541.871574758392, 3664.606992352844, 2815.118498204535, 1646.1531185089614, 1333.8438465012532, 1311.5852357691244, 1029.5639102935415, 974.6236873730709, 782.1983840075305, 709.0813650180478, 594.0017193948568, 575.2151244365576, 540.4959835764527, 994.803799083102, 463.85256223119103, 364.7001156986733, 308.3305884746571, 278.80165950569545, 278.80165950569545, 278.80165950569545, 278.80165950569545, 278.80165950569545, 243.3957158352381, 481.33486329837467, 481.33486329837467, 481.33486329837467, 481.33486329837467, 235.3047440958669, 235.21991677323663, 458.6425704191095, 458.6425704191095, 458.6425704191095, 472.37127886116497, 472.37127886116497, 472.37124605864267, 472.37124605864267, 472.37124605864267, 543.6208502569349], \"Total\": [205400.0, 177823.0, 177691.0, 80752.0, 34082.0, 63880.0, 26101.0, 19595.0, 27802.0, 27067.0, 46418.0, 19684.0, 14316.0, 17681.0, 16259.0, 16825.0, 14547.0, 14702.0, 9929.0, 12357.0, 10853.0, 11026.0, 10130.0, 9286.0, 9496.0, 9083.0, 9057.0, 8067.0, 8522.0, 6542.0, 205400.2509177004, 177823.723925818, 177691.45322639195, 80752.78733733563, 46418.69823853762, 11810.956322970575, 10766.39984570645, 8509.542728431723, 7462.1555150217355, 6505.976913599711, 5897.554809796337, 5475.009768556047, 5146.332297656447, 5079.283647701215, 4857.94166572895, 4704.107906781343, 4660.349987223408, 4579.649049821668, 4422.256522679379, 3832.636892333671, 3567.8580623957864, 3426.461330449943, 63880.06853947388, 3200.0471819500044, 2948.938626648189, 2771.1456878581735, 3307.6500314778855, 2698.1216888826066, 2644.6634953341454, 2518.99747218471, 16825.214962192298, 9526.082181740287, 9435.70424098695, 6766.499030605036, 5724.506012012894, 4512.567410734314, 4329.759356523602, 4301.778346850577, 4300.9250311883525, 4144.993234495208, 4095.023784911877, 3958.9143002891756, 3895.5221610226813, 3571.8388468710978, 3287.791089477092, 2889.8970050353023, 2880.239736144435, 2818.3219067713894, 2710.733309587641, 2536.942169930603, 2506.627898222513, 2427.987826584521, 2422.333446264444, 2421.6811883512346, 2282.31101185618, 2201.016153157993, 2052.880603205518, 1970.6431027248282, 1958.1436947083603, 1910.9040220165016, 17681.307066713318, 12357.770560866677, 7643.654997601569, 6682.144268573052, 3403.2897054081764, 3292.726094352326, 3002.395307505511, 2811.9564363412755, 2748.0160784620866, 2483.5895878585657, 2286.558214631206, 2026.3487322514723, 2011.3612541859347, 1929.2585552715536, 1813.607952712602, 1766.042608758011, 1722.3149620284123, 1708.3581090900668, 1675.4696263120475, 1656.9854682700297, 1583.6587630431943, 1484.2072790682712, 1437.0339396011098, 1408.0701950493215, 1379.2642122838608, 1358.1935713231119, 1326.723344767566, 1273.3292408271186, 1225.7830970964164, 1168.192571832979, 27802.098705798973, 14702.148527118929, 8048.301228019574, 7707.50096311639, 7518.027774008578, 6412.960884658049, 6148.939533985167, 5200.04394103456, 4198.689654468536, 3921.6855174735692, 3686.8229441577164, 3614.8623585895334, 3522.77402427259, 3457.7176869787745, 3181.712210294674, 2907.8622378181108, 2851.61340884828, 2719.487433463325, 2513.2026871197836, 2399.0614975967824, 2080.562286360319, 2003.6492599791393, 1995.2592592071917, 1422.4764950222122, 1364.7565789368452, 1332.1949328249734, 1196.9612163458296, 1149.8954300056605, 1110.8646416188692, 1045.4741364374554, 1001.3667068010434, 1947.8083848121782, 34082.593984666026, 1833.360683450587, 16259.16874564826, 14547.557375851, 11026.080260017277, 10130.489742920068, 5177.098037952355, 4772.453913694409, 4769.416387711642, 4608.524316928609, 4026.9865884365336, 3919.2375233436856, 3693.1440349374034, 3045.969991092168, 2985.89017470855, 2806.102244766232, 2802.947272637013, 2235.6490202853242, 2189.6249307138555, 2087.2822235021813, 1936.189507434552, 1841.1701054996704, 1781.4148642082823, 1418.592248848261, 1301.724121606693, 1263.518419351352, 1134.6852160698215, 1108.1329831563012, 1074.0756135098343, 1072.8111953729908, 1063.3077391563122, 973.1350450959178, 1326.7909887023268, 10853.709817504474, 9496.860600231135, 7142.879448768962, 5458.254779246372, 4985.234655746152, 3673.5698398551067, 3454.8935700505644, 3383.9912157967833, 3338.1304440031677, 3049.3993470045284, 2385.1818512300933, 2333.749120935997, 1857.901578584803, 1826.972080549079, 1717.0409307460454, 1393.0379106623407, 1105.947567609074, 1097.997754305397, 1081.7531946594806, 1041.2010574069243, 1032.7045112920227, 1027.234722828011, 1025.154407495876, 1020.1858634928036, 989.1372067735601, 918.6829082242083, 807.713386944574, 801.1223478127098, 791.8440065071168, 745.5576452709861, 808.5018574868681, 19684.6373667002, 6610.574658361144, 6061.584980059946, 2814.9874195955213, 2756.0281619017683, 2623.8009433749266, 2590.5182543904893, 2304.132228479779, 2070.314983990824, 1995.2899453074156, 1930.6506468022528, 1566.8843374911482, 1565.5769326421882, 1543.6076215338571, 1499.6050811294174, 1444.8389794031773, 1354.290042649354, 1275.709084356058, 1076.5775116510308, 1062.4603386755177, 1011.1627367647079, 1008.1984725141737, 950.5168310328503, 922.7423371175496, 865.7640207880378, 858.7109354555147, 837.7865453038037, 814.6165593638854, 804.9506103565178, 798.4253369637476, 2536.3334687214765, 997.0724874372979, 991.6597124632962, 9057.245145534036, 4645.81840928898, 4165.044788535144, 4090.4276747508543, 4051.7270469939017, 3553.7614392026353, 3292.430837459845, 3133.9662809995816, 2524.279787967247, 2470.974756141703, 2401.015556130149, 2111.923453358669, 2057.2087220799076, 2017.663244223386, 1957.151939271221, 1913.0637210805035, 1869.2015895418908, 1607.8993404497376, 1437.3500928200647, 1422.2651628143885, 1359.142770101094, 1312.074585950244, 1257.4668014411718, 1254.3803294203187, 1200.8081510390539, 1136.5982213165948, 1135.3236009220716, 1063.3677429176873, 1029.793361763572, 995.1105096627034, 1194.5137513981124, 27067.265961012265, 6953.490588583365, 2405.0078964536315, 2063.980369625713, 1957.1383254438942, 1948.6487250264177, 1735.9225767581502, 1702.3261172016048, 1676.4191531081196, 1516.728877950154, 1513.3480548364016, 1447.4128490501805, 1361.2269116490882, 1358.6256124639008, 1343.5441237552454, 1325.7960443503841, 1252.1863885440596, 1173.9026408091534, 1159.6905938223058, 1156.9795764916696, 1155.1297684699498, 1138.5655945866051, 1116.283870982876, 1093.2173007682813, 1069.6623216219596, 1003.6462111334162, 974.8800463655001, 903.7754557321787, 889.7209599953296, 885.3550866108061, 884.9862605067806, 884.7038746975182, 9286.583274550072, 9083.629069386894, 5641.176943502406, 5204.668181485717, 4032.606910933341, 3373.385213642156, 3271.449125593463, 2730.7645283251213, 2501.0281532833887, 2492.756793735023, 2401.39350099546, 2382.9653495953676, 1936.6632167145826, 1660.029393180702, 1570.0004691132349, 1482.5539794700296, 1336.2342469664868, 1283.3375867431173, 1266.2406610684927, 1235.4780232096095, 1149.0575257440103, 1140.0672681623382, 1114.1838269207783, 936.9758201170446, 936.0279245754708, 919.0141228101941, 845.0518124039562, 823.3007259871425, 807.5552182411558, 798.0226390388935, 4961.146846060177, 4108.018677549128, 3578.5106452677096, 3490.1604469179692, 2884.379811951999, 2272.133031013588, 2174.2551696983132, 2142.6636441723535, 2044.2896161119675, 1939.1122168794404, 1908.6080533909874, 1771.5194234417654, 1756.335879988345, 1751.9232196122346, 1714.3055106580482, 1641.5956375617052, 1635.869817224226, 1444.8349670260409, 1371.1329006008712, 1325.9803249125632, 1231.1199703600737, 1134.1618396045465, 1132.1553777305774, 1117.3909830409034, 1116.1621994685709, 1057.7405289051605, 1056.6467176966364, 1047.3278932381522, 1005.9933487160761, 963.1899964434216, 1954.6555643185573, 3571.3190414155024, 1144.1440704218487, 26101.356805604522, 3399.2237815751323, 2958.2515982301015, 2775.250402744917, 2448.487825875493, 2426.766582631363, 2308.772703383349, 2174.0336311215697, 2049.4795934973436, 1960.4877074004319, 1780.7085520880241, 1780.382366403886, 1705.0154445700455, 1536.5537005509636, 1487.3999166535002, 1484.2140616812123, 1410.5636677250538, 1362.2770319396932, 1314.517351408828, 1210.8229858440343, 1210.3309188449764, 1200.0001057867362, 1110.815102193111, 1061.1772924567206, 1060.3473022700923, 939.387856873697, 919.3013032595422, 911.4570886566102, 897.1637355380857, 882.4047734246698, 1112.356644496106, 1112.356644496106, 1112.356644496106, 1112.356644496106, 1064.5221524576832, 6353.5256026169445, 3859.022090903865, 3382.7981154370573, 2586.589385408406, 2229.0095124790705, 2147.240244903029, 2042.319812882116, 1965.4576383085794, 1904.4307178582983, 1721.3007037760985, 1629.8438541032901, 1615.0577528081576, 1499.0383967011712, 1420.0558244648864, 1304.0804970135116, 1240.5388407629482, 1208.1306817854565, 1198.4656883072, 1177.394973912933, 1126.059466913394, 1092.0017006915762, 1070.831315609869, 1066.4077749612309, 1055.564536169993, 1030.1242002870915, 1026.647977803442, 996.7680850515468, 951.0206449339096, 912.3281280959109, 893.7309950587853, 1988.5010715132016, 1861.395254860344, 8522.143289745329, 6816.0154062622905, 6102.045925011212, 4165.886138266564, 3295.756191828602, 3295.756191828602, 3295.720660946011, 3295.720660946011, 2731.2862534058263, 2112.171308363886, 1767.2828455289286, 1675.2787309008474, 1670.8937727472016, 1415.200621303712, 1314.676424655815, 1269.011910723685, 1172.1014284559008, 1070.5013666214852, 1042.1152351604853, 922.5290305909604, 922.3954791922733, 902.7354094980939, 872.4068195834705, 867.586794468864, 864.8164416184695, 856.8314969213918, 802.9339432921246, 800.837869686948, 774.1133039225124, 732.8597130246135, 4052.0546826730315, 3131.3560726635947, 3021.493432244565, 2954.2177551809245, 2783.3640212573023, 2497.048746142336, 2327.2956410187176, 2299.524339993283, 1901.3099282120863, 1736.4290516643264, 1690.1812862372358, 1562.7632375644362, 1540.9192118584695, 1500.137389954433, 1354.889636949915, 1174.5456491229559, 1171.583733691131, 1134.005630277343, 1125.3127753767465, 1082.5328058652126, 1081.7467736552367, 1080.8601623894708, 1047.6813593230552, 1044.167636894985, 1014.7470000973761, 998.4616894636399, 972.2115892488935, 856.1335994838774, 821.2504645435622, 800.4702681294679, 9929.115990953549, 8067.730936869314, 5670.135628403803, 5081.76216161075, 3152.1687755622897, 3023.4110569704276, 2580.726523808409, 2439.487269023849, 2096.739915814848, 2083.492545749292, 1732.7262709300935, 1729.064254950881, 1701.8137869293655, 1673.6019336016016, 1666.3417716757222, 1610.0722828250227, 1557.101195490705, 1195.0507595058027, 1141.7264526819986, 1090.1404959066467, 953.6821043377626, 953.6821043377626, 953.6821043377626, 761.4735011409368, 660.5660426051714, 614.1293536545462, 591.9764611856933, 571.4977690988082, 571.4977690988082, 472.82870490647724, 6953.490588583365, 5428.713093286315, 3802.515623129311, 2960.668913809064, 2152.9208485958093, 2066.048075706014, 2013.7693866451123, 1866.7698664874463, 1319.0030559677402, 1312.100845576161, 1234.1051134853278, 1146.506797520699, 1040.4569641310607, 995.5005100164904, 895.9254384658591, 849.5167105714352, 743.7725435010746, 738.6740471099785, 738.6069954890264, 717.4592111683108, 713.0081216924059, 701.2798282086168, 669.1013841792784, 652.2124417016394, 650.8751206129954, 635.2150601538671, 580.339537023914, 578.983807681313, 568.4193423255489, 552.8332301486803, 525.3086634593276, 4554.3023189577025, 1309.5433243271377, 1363.5530441547653, 1363.561654920454, 1363.561657555298, 6264.967473568607, 3722.0643135627565, 3715.904285236573, 3292.0414504344117, 3176.242127594522, 3017.2573711504147, 2889.751099019312, 2764.146419050743, 2398.9282190794775, 2149.2913094583596, 2140.1759815532164, 2033.6810643935746, 1868.7051239833395, 1674.1564776464368, 1672.326400140538, 1621.8236217545857, 1208.9309608543015, 1166.9181059799164, 1150.5361912566505, 1091.1820787041343, 1075.595197664225, 985.1555825454539, 957.6800003218606, 927.4258992575323, 865.9666394109965, 844.8474019596534, 800.2234772084112, 725.1752552174718, 668.1755010956881, 598.7176321490322, 27067.265961012265, 34082.593984666026, 14316.269095996295, 3463.8233129616324, 2117.326188966028, 1819.460160696408, 1590.2278054838919, 1441.2131441872084, 1009.5822098257855, 956.4944404915617, 925.0373516145069, 896.4591538592803, 883.5800074138856, 693.1028609188157, 690.9805758677685, 1743.7906464191346, 676.958504463689, 632.6596090378703, 583.0516863937692, 559.3643024393025, 554.2570593789791, 539.5868164024628, 437.13998929416334, 434.2420562053194, 392.433094815454, 391.51569729322847, 375.2480921811562, 338.1853878660727, 328.882075963203, 316.61795521592904, 1061.0282529170802, 269.0427391235383, 1796.4286727580666, 1796.4286727580666, 529.901755729693, 19595.486503937213, 6542.842244908498, 3665.5776625029503, 2816.0891683599643, 1647.123788666281, 1334.8145166513596, 1312.5559059192308, 1030.5345804436479, 975.594357566982, 783.1690541576368, 710.052035168154, 594.972389544963, 576.1857945866639, 541.4666537265589, 996.6491600131304, 464.82323238129726, 365.6707858522835, 309.30125862865793, 279.775534069413, 279.775534069413, 279.775534069413, 279.775534069413, 279.775534069413, 244.36638598534432, 483.2947713800191, 483.29477155073744, 483.29477155073744, 483.29477155073744, 236.28013873250794, 236.1951122377807, 460.7404237783122, 460.74042429820224, 460.74042429820224, 489.44860679682154, 489.44860679682154, 489.44857399429924, 489.44857399429924, 489.44857399429924, 575.5147183840204], \"Category\": [\"Default\", \"Default\", \"Default\", \"Default\", \"Default\", \"Default\", \"Default\", \"Default\", \"Default\", \"Default\", \"Default\", \"Default\", \"Default\", \"Default\", \"Default\", \"Default\", \"Default\", \"Default\", \"Default\", \"Default\", \"Default\", \"Default\", \"Default\", \"Default\", \"Default\", \"Default\", \"Default\", \"Default\", \"Default\", \"Default\", \"Topic1\", \"Topic1\", \"Topic1\", \"Topic1\", \"Topic1\", \"Topic1\", \"Topic1\", \"Topic1\", \"Topic1\", \"Topic1\", \"Topic1\", \"Topic1\", \"Topic1\", \"Topic1\", \"Topic1\", \"Topic1\", \"Topic1\", \"Topic1\", \"Topic1\", \"Topic1\", \"Topic1\", \"Topic1\", \"Topic1\", \"Topic1\", \"Topic1\", \"Topic1\", \"Topic1\", \"Topic1\", \"Topic1\", \"Topic1\", \"Topic2\", \"Topic2\", \"Topic2\", \"Topic2\", \"Topic2\", \"Topic2\", \"Topic2\", \"Topic2\", \"Topic2\", \"Topic2\", \"Topic2\", \"Topic2\", \"Topic2\", \"Topic2\", \"Topic2\", \"Topic2\", \"Topic2\", \"Topic2\", \"Topic2\", \"Topic2\", \"Topic2\", \"Topic2\", \"Topic2\", \"Topic2\", \"Topic2\", \"Topic2\", \"Topic2\", \"Topic2\", \"Topic2\", \"Topic2\", \"Topic3\", \"Topic3\", \"Topic3\", \"Topic3\", \"Topic3\", \"Topic3\", \"Topic3\", \"Topic3\", \"Topic3\", \"Topic3\", \"Topic3\", \"Topic3\", \"Topic3\", \"Topic3\", \"Topic3\", \"Topic3\", \"Topic3\", \"Topic3\", \"Topic3\", \"Topic3\", \"Topic3\", \"Topic3\", \"Topic3\", \"Topic3\", \"Topic3\", \"Topic3\", \"Topic3\", \"Topic3\", \"Topic3\", \"Topic3\", \"Topic3\", \"Topic4\", \"Topic4\", \"Topic4\", \"Topic4\", \"Topic4\", \"Topic4\", \"Topic4\", \"Topic4\", \"Topic4\", \"Topic4\", \"Topic4\", \"Topic4\", \"Topic4\", \"Topic4\", \"Topic4\", \"Topic4\", \"Topic4\", \"Topic4\", \"Topic4\", \"Topic4\", \"Topic4\", \"Topic4\", \"Topic4\", \"Topic4\", \"Topic4\", \"Topic4\", \"Topic4\", \"Topic4\", \"Topic4\", \"Topic4\", \"Topic4\", \"Topic4\", \"Topic4\", \"Topic5\", \"Topic5\", \"Topic5\", \"Topic5\", \"Topic5\", \"Topic5\", \"Topic5\", \"Topic5\", \"Topic5\", \"Topic5\", \"Topic5\", \"Topic5\", \"Topic5\", \"Topic5\", \"Topic5\", \"Topic5\", \"Topic5\", \"Topic5\", \"Topic5\", \"Topic5\", \"Topic5\", \"Topic5\", \"Topic5\", \"Topic5\", \"Topic5\", \"Topic5\", \"Topic5\", \"Topic5\", \"Topic5\", \"Topic5\", \"Topic5\", \"Topic6\", \"Topic6\", \"Topic6\", \"Topic6\", \"Topic6\", \"Topic6\", \"Topic6\", \"Topic6\", \"Topic6\", \"Topic6\", \"Topic6\", \"Topic6\", \"Topic6\", \"Topic6\", \"Topic6\", \"Topic6\", \"Topic6\", \"Topic6\", \"Topic6\", \"Topic6\", \"Topic6\", \"Topic6\", \"Topic6\", \"Topic6\", \"Topic6\", \"Topic6\", \"Topic6\", \"Topic6\", \"Topic6\", \"Topic6\", \"Topic6\", \"Topic7\", \"Topic7\", \"Topic7\", \"Topic7\", \"Topic7\", \"Topic7\", \"Topic7\", \"Topic7\", \"Topic7\", \"Topic7\", \"Topic7\", \"Topic7\", \"Topic7\", \"Topic7\", \"Topic7\", \"Topic7\", \"Topic7\", \"Topic7\", \"Topic7\", \"Topic7\", \"Topic7\", \"Topic7\", \"Topic7\", \"Topic7\", \"Topic7\", \"Topic7\", \"Topic7\", \"Topic7\", \"Topic7\", \"Topic7\", \"Topic7\", \"Topic7\", \"Topic7\", \"Topic8\", \"Topic8\", \"Topic8\", \"Topic8\", \"Topic8\", \"Topic8\", \"Topic8\", \"Topic8\", \"Topic8\", \"Topic8\", \"Topic8\", \"Topic8\", \"Topic8\", \"Topic8\", \"Topic8\", \"Topic8\", \"Topic8\", \"Topic8\", \"Topic8\", \"Topic8\", \"Topic8\", \"Topic8\", \"Topic8\", \"Topic8\", \"Topic8\", \"Topic8\", \"Topic8\", \"Topic8\", \"Topic8\", \"Topic8\", \"Topic8\", \"Topic8\", \"Topic8\", \"Topic9\", \"Topic9\", \"Topic9\", \"Topic9\", \"Topic9\", \"Topic9\", \"Topic9\", \"Topic9\", \"Topic9\", \"Topic9\", \"Topic9\", \"Topic9\", \"Topic9\", \"Topic9\", \"Topic9\", \"Topic9\", \"Topic9\", \"Topic9\", \"Topic9\", \"Topic9\", \"Topic9\", \"Topic9\", \"Topic9\", \"Topic9\", \"Topic9\", \"Topic9\", \"Topic9\", \"Topic9\", \"Topic9\", \"Topic9\", \"Topic10\", \"Topic10\", \"Topic10\", \"Topic10\", \"Topic10\", \"Topic10\", \"Topic10\", \"Topic10\", \"Topic10\", \"Topic10\", \"Topic10\", \"Topic10\", \"Topic10\", \"Topic10\", \"Topic10\", \"Topic10\", \"Topic10\", \"Topic10\", \"Topic10\", \"Topic10\", \"Topic10\", \"Topic10\", \"Topic10\", \"Topic10\", \"Topic10\", \"Topic10\", \"Topic10\", \"Topic10\", \"Topic10\", \"Topic10\", \"Topic11\", \"Topic11\", \"Topic11\", \"Topic11\", \"Topic11\", \"Topic11\", \"Topic11\", \"Topic11\", \"Topic11\", \"Topic11\", \"Topic11\", \"Topic11\", \"Topic11\", \"Topic11\", \"Topic11\", \"Topic11\", \"Topic11\", \"Topic11\", \"Topic11\", \"Topic11\", \"Topic11\", \"Topic11\", \"Topic11\", \"Topic11\", \"Topic11\", \"Topic11\", \"Topic11\", \"Topic11\", \"Topic11\", \"Topic11\", \"Topic11\", \"Topic11\", \"Topic11\", \"Topic12\", \"Topic12\", \"Topic12\", \"Topic12\", \"Topic12\", \"Topic12\", \"Topic12\", \"Topic12\", \"Topic12\", \"Topic12\", \"Topic12\", \"Topic12\", \"Topic12\", \"Topic12\", \"Topic12\", \"Topic12\", \"Topic12\", \"Topic12\", \"Topic12\", \"Topic12\", \"Topic12\", \"Topic12\", \"Topic12\", \"Topic12\", \"Topic12\", \"Topic12\", \"Topic12\", \"Topic12\", \"Topic12\", \"Topic12\", \"Topic12\", \"Topic12\", \"Topic12\", \"Topic12\", \"Topic12\", \"Topic13\", \"Topic13\", \"Topic13\", \"Topic13\", \"Topic13\", \"Topic13\", \"Topic13\", \"Topic13\", \"Topic13\", \"Topic13\", \"Topic13\", \"Topic13\", \"Topic13\", \"Topic13\", \"Topic13\", \"Topic13\", \"Topic13\", \"Topic13\", \"Topic13\", \"Topic13\", \"Topic13\", \"Topic13\", \"Topic13\", \"Topic13\", \"Topic13\", \"Topic13\", \"Topic13\", \"Topic13\", \"Topic13\", \"Topic13\", \"Topic13\", \"Topic13\", \"Topic14\", \"Topic14\", \"Topic14\", \"Topic14\", \"Topic14\", \"Topic14\", \"Topic14\", \"Topic14\", \"Topic14\", \"Topic14\", \"Topic14\", \"Topic14\", \"Topic14\", \"Topic14\", \"Topic14\", \"Topic14\", \"Topic14\", \"Topic14\", \"Topic14\", \"Topic14\", \"Topic14\", \"Topic14\", \"Topic14\", \"Topic14\", \"Topic14\", \"Topic14\", \"Topic14\", \"Topic14\", \"Topic14\", \"Topic14\", \"Topic15\", \"Topic15\", \"Topic15\", \"Topic15\", \"Topic15\", \"Topic15\", \"Topic15\", \"Topic15\", \"Topic15\", \"Topic15\", \"Topic15\", \"Topic15\", \"Topic15\", \"Topic15\", \"Topic15\", \"Topic15\", \"Topic15\", \"Topic15\", \"Topic15\", \"Topic15\", \"Topic15\", \"Topic15\", \"Topic15\", \"Topic15\", \"Topic15\", \"Topic15\", \"Topic15\", \"Topic15\", \"Topic15\", \"Topic15\", \"Topic16\", \"Topic16\", \"Topic16\", \"Topic16\", \"Topic16\", \"Topic16\", \"Topic16\", \"Topic16\", \"Topic16\", \"Topic16\", \"Topic16\", \"Topic16\", \"Topic16\", \"Topic16\", \"Topic16\", \"Topic16\", \"Topic16\", \"Topic16\", \"Topic16\", \"Topic16\", \"Topic16\", \"Topic16\", \"Topic16\", \"Topic16\", \"Topic16\", \"Topic16\", \"Topic16\", \"Topic16\", \"Topic16\", \"Topic16\", \"Topic16\", \"Topic17\", \"Topic17\", \"Topic17\", \"Topic17\", \"Topic17\", \"Topic17\", \"Topic17\", \"Topic17\", \"Topic17\", \"Topic17\", \"Topic17\", \"Topic17\", \"Topic17\", \"Topic17\", \"Topic17\", \"Topic17\", \"Topic17\", \"Topic17\", \"Topic17\", \"Topic17\", \"Topic17\", \"Topic17\", \"Topic17\", \"Topic17\", \"Topic17\", \"Topic17\", \"Topic17\", \"Topic17\", \"Topic17\", \"Topic17\", \"Topic17\", \"Topic17\", \"Topic17\", \"Topic17\", \"Topic17\", \"Topic18\", \"Topic18\", \"Topic18\", \"Topic18\", \"Topic18\", \"Topic18\", \"Topic18\", \"Topic18\", \"Topic18\", \"Topic18\", \"Topic18\", \"Topic18\", \"Topic18\", \"Topic18\", \"Topic18\", \"Topic18\", \"Topic18\", \"Topic18\", \"Topic18\", \"Topic18\", \"Topic18\", \"Topic18\", \"Topic18\", \"Topic18\", \"Topic18\", \"Topic18\", \"Topic18\", \"Topic18\", \"Topic18\", \"Topic18\", \"Topic18\", \"Topic18\", \"Topic19\", \"Topic19\", \"Topic19\", \"Topic19\", \"Topic19\", \"Topic19\", \"Topic19\", \"Topic19\", \"Topic19\", \"Topic19\", \"Topic19\", \"Topic19\", \"Topic19\", \"Topic19\", \"Topic19\", \"Topic19\", \"Topic19\", \"Topic19\", \"Topic19\", \"Topic19\", \"Topic19\", \"Topic19\", \"Topic19\", \"Topic19\", \"Topic19\", \"Topic19\", \"Topic19\", \"Topic19\", \"Topic19\", \"Topic19\", \"Topic19\", \"Topic19\", \"Topic19\", \"Topic20\", \"Topic20\", \"Topic20\", \"Topic20\", \"Topic20\", \"Topic20\", \"Topic20\", \"Topic20\", \"Topic20\", \"Topic20\", \"Topic20\", \"Topic20\", \"Topic20\", \"Topic20\", \"Topic20\", \"Topic20\", \"Topic20\", \"Topic20\", \"Topic20\", \"Topic20\", \"Topic20\", \"Topic20\", \"Topic20\", \"Topic20\", \"Topic20\", \"Topic20\", \"Topic20\", \"Topic20\", \"Topic20\", \"Topic20\", \"Topic20\", \"Topic20\", \"Topic20\", \"Topic20\", \"Topic20\", \"Topic20\", \"Topic20\", \"Topic20\", \"Topic20\"], \"logprob\": [30.0, 29.0, 28.0, 27.0, 26.0, 25.0, 24.0, 23.0, 22.0, 21.0, 20.0, 19.0, 18.0, 17.0, 16.0, 15.0, 14.0, 13.0, 12.0, 11.0, 10.0, 9.0, 8.0, 7.0, 6.0, 5.0, 4.0, 3.0, 2.0, 1.0, -1.5479, -1.692, -1.6928, -2.4815, -3.0352, -4.4039, -4.4965, -4.7318, -4.8631, -5.0003, -5.0985, -5.1728, -5.2347, -5.2478, -5.2924, -5.3246, -5.3339, -5.3514, -5.3864, -5.5295, -5.6011, -5.6416, -2.7161, -5.71, -5.7917, -5.8539, -5.6769, -5.8806, -5.9006, -5.9493, -2.7499, -3.3187, -3.3283, -3.6608, -3.8281, -4.066, -4.1074, -4.1139, -4.1141, -4.151, -4.1631, -4.1969, -4.2131, -4.2999, -4.3827, -4.5118, -4.5151, -4.5369, -4.5758, -4.6421, -4.6541, -4.686, -4.6883, -4.6886, -4.7479, -4.7842, -4.8539, -4.8948, -4.9012, -4.9256, -2.5616, -2.9198, -3.4003, -3.5347, -4.2096, -4.2426, -4.3349, -4.4005, -4.4235, -4.5247, -4.6074, -4.7282, -4.7357, -4.7774, -4.8392, -4.8658, -4.8909, -4.899, -4.9185, -4.9296, -4.9749, -5.0398, -5.0721, -5.0925, -5.1132, -5.1286, -5.152, -5.1931, -5.2312, -5.2794, -2.1117, -2.6929, -3.2955, -3.3387, -3.3636, -3.5226, -3.5647, -3.7323, -3.9463, -4.0145, -4.0763, -4.096, -4.1218, -4.1405, -4.2237, -4.3137, -4.3333, -4.3807, -4.4596, -4.5061, -4.6486, -4.6863, -4.6905, -5.0291, -5.0705, -5.0947, -5.2018, -5.242, -5.2765, -5.3372, -5.3804, -4.718, -1.891, -5.1004, -2.4901, -2.6014, -2.8786, -2.9633, -3.6347, -3.7161, -3.7167, -3.751, -3.886, -3.9131, -3.9725, -4.1652, -4.1852, -4.2473, -4.2484, -4.4746, -4.4954, -4.5433, -4.6185, -4.6689, -4.7019, -4.9297, -5.0158, -5.0456, -5.1532, -5.1769, -5.2082, -5.2093, -5.2182, -5.3069, -5.0031, -2.7542, -2.8878, -3.1726, -3.4417, -3.5323, -3.8377, -3.8991, -3.9198, -3.9335, -4.024, -4.2697, -4.2916, -4.5197, -4.5365, -4.5986, -4.8078, -5.0388, -5.046, -5.0609, -5.0992, -5.1074, -5.1127, -5.1147, -5.1196, -5.1505, -5.2245, -5.3533, -5.3616, -5.3732, -5.4335, -5.3564, -2.0999, -3.1912, -3.2779, -4.0451, -4.0663, -4.1155, -4.1282, -4.2454, -4.3525, -4.3894, -4.4224, -4.6312, -4.6321, -4.6462, -4.6752, -4.7124, -4.7771, -4.837, -5.0068, -5.02, -5.0696, -5.0725, -5.1315, -5.1612, -5.225, -5.2332, -5.2579, -5.2859, -5.2979, -5.306, -4.2399, -5.172, -5.284, -2.8575, -3.5252, -3.6344, -3.6525, -3.662, -3.7932, -3.8696, -3.9189, -4.1354, -4.1567, -4.1854, -4.3138, -4.34, -4.3595, -4.3899, -4.4127, -4.4359, -4.5866, -4.6988, -4.7093, -4.7548, -4.79, -4.8326, -4.835, -4.8787, -4.9337, -4.9349, -5.0004, -5.0325, -5.0668, -4.8847, -1.8603, -3.5484, -4.1494, -4.3024, -4.3555, -4.3599, -4.4755, -4.4951, -4.5104, -4.6106, -4.6128, -4.6574, -4.7189, -4.7208, -4.7319, -4.7452, -4.8024, -4.867, -4.8792, -4.8815, -4.8831, -4.8976, -4.9174, -4.9383, -4.9601, -5.0238, -5.053, -5.1288, -5.1445, -5.1494, -5.1498, -5.1501, -2.7949, -2.817, -3.2934, -3.374, -3.6292, -3.8077, -3.8384, -4.0191, -4.107, -4.1104, -4.1477, -4.1554, -4.3629, -4.5171, -4.5729, -4.6302, -4.7342, -4.7746, -4.7881, -4.8127, -4.8852, -4.8931, -4.9161, -5.0895, -5.0905, -5.1088, -5.1928, -5.219, -5.2383, -5.2502, -3.4125, -3.6012, -3.7393, -3.7643, -3.955, -4.1936, -4.2377, -4.2523, -4.2994, -4.3522, -4.3681, -4.4426, -4.4512, -4.4538, -4.4755, -4.5188, -4.5223, -4.6466, -4.699, -4.7325, -4.8068, -4.8889, -4.8907, -4.9038, -4.9049, -4.9587, -4.9597, -4.9686, -5.0089, -5.0524, -4.3463, -3.7503, -4.8803, -1.6744, -3.7131, -3.8521, -3.9159, -4.0413, -4.0502, -4.1, -4.1602, -4.2192, -4.2636, -4.3599, -4.36, -4.4033, -4.5074, -4.5399, -4.5421, -4.593, -4.6279, -4.6636, -4.7458, -4.7462, -4.7548, -4.8321, -4.8779, -4.8786, -4.9999, -5.0215, -5.0301, -5.0459, -5.0625, -4.8652, -4.8652, -4.8652, -4.8652, -4.9103, -3.0713, -3.57, -3.7018, -3.9702, -4.1191, -4.1565, -4.2066, -4.245, -4.2765, -4.3777, -4.4323, -4.4414, -4.516, -4.5702, -4.6554, -4.7054, -4.7319, -4.74, -4.7577, -4.8023, -4.8331, -4.8527, -4.8568, -4.867, -4.8914, -4.8948, -4.9244, -4.9714, -5.013, -5.0336, -4.2408, -4.3074, -2.7508, -2.9742, -3.0848, -3.4666, -3.701, -3.701, -3.701, -3.701, -3.8889, -4.1461, -4.3244, -4.3779, -4.3805, -4.5467, -4.6205, -4.6558, -4.7353, -4.8261, -4.853, -4.975, -4.9751, -4.9967, -5.0309, -5.0365, -5.0397, -5.0489, -5.114, -5.1166, -5.1506, -5.2054, -3.4155, -3.6733, -3.709, -3.7316, -3.7912, -3.8998, -3.9702, -3.9822, -4.1724, -4.2632, -4.2902, -4.3686, -4.3827, -4.4096, -4.5115, -4.6544, -4.6569, -4.6896, -4.6973, -4.7361, -4.7368, -4.7376, -4.7688, -4.7722, -4.8008, -4.817, -4.8436, -4.9709, -5.0126, -5.0382, -2.3915, -2.5991, -2.9518, -3.0614, -3.5391, -3.5808, -3.7392, -3.7955, -3.9469, -3.9533, -4.1377, -4.1398, -4.1557, -4.1725, -4.1768, -4.2112, -4.2446, -4.5095, -4.5552, -4.6014, -4.7353, -4.7353, -4.7353, -4.9606, -5.103, -5.176, -5.2127, -5.248, -5.248, -5.4379, -3.8054, -2.9744, -3.3305, -3.5809, -3.8996, -3.9408, -3.9664, -4.0423, -4.3898, -4.3951, -4.4564, -4.5301, -4.6272, -4.6714, -4.7769, -4.8302, -4.9633, -4.9701, -4.9702, -4.9993, -5.0056, -5.0222, -5.0692, -5.0948, -5.0969, -5.1213, -5.2117, -5.2141, -5.2325, -5.2604, -5.3115, -3.2424, -4.4455, -4.9926, -4.9928, -4.9928, -2.7047, -3.2255, -3.2271, -3.3483, -3.3841, -3.4355, -3.4787, -3.5231, -3.6649, -3.7748, -3.7791, -3.8301, -3.9148, -4.0248, -4.0259, -4.0565, -4.3506, -4.386, -4.4001, -4.4531, -4.4675, -4.5554, -4.5837, -4.6159, -4.6845, -4.7092, -4.7636, -4.8622, -4.9441, -5.0541, -3.6161, -4.276, -1.6241, -3.0433, -3.5357, -3.6874, -3.8221, -3.9206, -4.2768, -4.3309, -4.3644, -4.3958, -4.4103, -4.6534, -4.6565, -3.7308, -4.677, -4.7448, -4.8266, -4.8681, -4.8773, -4.9042, -5.1151, -5.1218, -5.2233, -5.2256, -5.2682, -5.3724, -5.4004, -5.4385, -4.2297, -5.6019, -3.9202, -3.9202, -5.0839, -1.2796, -2.3766, -2.9561, -3.2198, -3.7564, -3.9667, -3.9836, -4.2257, -4.2805, -4.5004, -4.5986, -4.7757, -4.8078, -4.8701, -4.26, -5.023, -5.2635, -5.4314, -5.5321, -5.5321, -5.5321, -5.5321, -5.5321, -5.6679, -4.986, -4.986, -4.986, -4.986, -5.7017, -5.702, -5.0343, -5.0343, -5.0343, -5.0048, -5.0048, -5.0048, -5.0048, -5.0048, -4.8643], \"loglift\": [30.0, 29.0, 28.0, 27.0, 26.0, 25.0, 24.0, 23.0, 22.0, 21.0, 20.0, 19.0, 18.0, 17.0, 16.0, 15.0, 14.0, 13.0, 12.0, 11.0, 10.0, 9.0, 8.0, 7.0, 6.0, 5.0, 4.0, 3.0, 2.0, 1.0, 1.3698, 1.3698, 1.3698, 1.3698, 1.3698, 1.3697, 1.3697, 1.3697, 1.3696, 1.3696, 1.3696, 1.3696, 1.3696, 1.3696, 1.3696, 1.3696, 1.3696, 1.3696, 1.3696, 1.3695, 1.3695, 1.3695, 1.3695, 1.3695, 1.3695, 1.3694, 1.3694, 1.3694, 1.3694, 1.3694, 2.6699, 2.6698, 2.6698, 2.6698, 2.6698, 2.6697, 2.6697, 2.6697, 2.6697, 2.6697, 2.6697, 2.6697, 2.6697, 2.6697, 2.6696, 2.6696, 2.6696, 2.6696, 2.6696, 2.6696, 2.6696, 2.6695, 2.6695, 2.6695, 2.6695, 2.6695, 2.6695, 2.6695, 2.6695, 2.6694, 2.8085, 2.8085, 2.8085, 2.8085, 2.8083, 2.8083, 2.8083, 2.8083, 2.8082, 2.8082, 2.8082, 2.8081, 2.8081, 2.8081, 2.8081, 2.8081, 2.808, 2.808, 2.808, 2.808, 2.808, 2.808, 2.8079, 2.8079, 2.8079, 2.8079, 2.8079, 2.8078, 2.8078, 2.8078, 2.8058, 2.8617, 2.8617, 2.8617, 2.8617, 2.8617, 2.8616, 2.8616, 2.8616, 2.8616, 2.8615, 2.8615, 2.8615, 2.8615, 2.8615, 2.8615, 2.8615, 2.8615, 2.8614, 2.8614, 2.8613, 2.8613, 2.8613, 2.8611, 2.8611, 2.8611, 2.861, 2.861, 2.8609, 2.8609, 2.8609, 2.8579, 2.8228, 2.5361, 2.9638, 2.9638, 2.9638, 2.9638, 2.9637, 2.9637, 2.9637, 2.9637, 2.9636, 2.9636, 2.9636, 2.9636, 2.9636, 2.9635, 2.9635, 2.9634, 2.9634, 2.9634, 2.9634, 2.9634, 2.9633, 2.9632, 2.9631, 2.9631, 2.963, 2.963, 2.963, 2.963, 2.963, 2.9629, 2.9568, 3.1039, 3.1039, 3.1039, 3.1038, 3.1038, 3.1037, 3.1037, 3.1037, 3.1037, 3.1037, 3.1036, 3.1036, 3.1035, 3.1035, 3.1034, 3.1033, 3.1031, 3.1031, 3.1031, 3.1031, 3.1031, 3.1031, 3.1031, 3.1031, 3.103, 3.103, 3.1028, 3.1028, 3.1028, 3.1027, 3.0988, 3.1628, 3.1627, 3.1627, 3.1625, 3.1625, 3.1625, 3.1625, 3.1625, 3.1624, 3.1624, 3.1624, 3.1623, 3.1623, 3.1623, 3.1623, 3.1622, 3.1622, 3.1621, 3.162, 3.162, 3.1619, 3.1619, 3.1619, 3.1619, 3.1618, 3.1618, 3.1618, 3.1617, 3.1617, 3.1617, 3.072, 3.0736, 2.9669, 3.1816, 3.1815, 3.1814, 3.1814, 3.1814, 3.1814, 3.1814, 3.1814, 3.1813, 3.1813, 3.1813, 3.1812, 3.1812, 3.1812, 3.1812, 3.1812, 3.1812, 3.1811, 3.181, 3.181, 3.181, 3.181, 3.1809, 3.1809, 3.1809, 3.1808, 3.1808, 3.1808, 3.1808, 3.1807, 3.1802, 3.084, 2.7549, 3.2157, 3.2156, 3.2156, 3.2156, 3.2155, 3.2155, 3.2155, 3.2154, 3.2154, 3.2154, 3.2154, 3.2154, 3.2154, 3.2154, 3.2153, 3.2153, 3.2153, 3.2152, 3.2152, 3.2152, 3.2152, 3.2152, 3.2152, 3.2151, 3.2151, 3.215, 3.215, 3.215, 3.215, 3.215, 3.2191, 3.2191, 3.2191, 3.2191, 3.219, 3.219, 3.219, 3.2189, 3.2189, 3.2189, 3.2189, 3.2188, 3.2188, 3.2187, 3.2186, 3.2186, 3.2185, 3.2185, 3.2185, 3.2185, 3.2184, 3.2184, 3.2184, 3.2182, 3.2182, 3.2182, 3.2181, 3.2181, 3.2181, 3.2181, 3.2285, 3.2284, 3.2284, 3.2284, 3.2283, 3.2283, 3.2282, 3.2282, 3.2282, 3.2282, 3.2282, 3.2281, 3.2281, 3.2281, 3.2281, 3.2281, 3.2281, 3.228, 3.228, 3.228, 3.2279, 3.2278, 3.2278, 3.2278, 3.2278, 3.2278, 3.2278, 3.2278, 3.2277, 3.2277, 3.2261, 3.2193, 3.2277, 3.3062, 3.306, 3.3059, 3.3059, 3.3059, 3.3059, 3.3059, 3.3058, 3.3058, 3.3058, 3.3057, 3.3057, 3.3057, 3.3057, 3.3056, 3.3056, 3.3056, 3.3056, 3.3055, 3.3055, 3.3055, 3.3055, 3.3054, 3.3054, 3.3054, 3.3053, 3.3052, 3.3052, 3.3052, 3.3052, 3.271, 3.271, 3.271, 3.271, 3.2697, 3.3223, 3.3222, 3.3221, 3.322, 3.322, 3.322, 3.3219, 3.3219, 3.3219, 3.3219, 3.3218, 3.3218, 3.3218, 3.3217, 3.3217, 3.3216, 3.3216, 3.3216, 3.3216, 3.3216, 3.3215, 3.3215, 3.3215, 3.3215, 3.3215, 3.3215, 3.3215, 3.3214, 3.3214, 3.3213, 3.3144, 3.3139, 3.3492, 3.3492, 3.3491, 3.3491, 3.349, 3.349, 3.349, 3.349, 3.3489, 3.3488, 3.3488, 3.3487, 3.3487, 3.3486, 3.3486, 3.3485, 3.3485, 3.3484, 3.3484, 3.3483, 3.3483, 3.3482, 3.3482, 3.3482, 3.3482, 3.3482, 3.3481, 3.3481, 3.3481, 3.348, 3.4279, 3.4278, 3.4278, 3.4278, 3.4278, 3.4277, 3.4277, 3.4277, 3.4276, 3.4276, 3.4276, 3.4275, 3.4275, 3.4275, 3.4274, 3.4273, 3.4273, 3.4273, 3.4273, 3.4272, 3.4272, 3.4272, 3.4272, 3.4272, 3.4272, 3.4272, 3.4271, 3.427, 3.427, 3.4269, 3.5556, 3.5556, 3.5556, 3.5556, 3.5554, 3.5554, 3.5554, 3.5554, 3.5553, 3.5553, 3.5552, 3.5552, 3.5552, 3.5552, 3.5552, 3.5552, 3.5551, 3.555, 3.5549, 3.5549, 3.5548, 3.5548, 3.5548, 3.5545, 3.5543, 3.5542, 3.5541, 3.5541, 3.5541, 3.5537, 2.498, 3.5765, 3.5764, 3.5763, 3.5762, 3.5762, 3.5762, 3.5761, 3.5759, 3.5759, 3.5759, 3.5758, 3.5757, 3.5757, 3.5756, 3.5755, 3.5754, 3.5754, 3.5754, 3.5753, 3.5753, 3.5753, 3.5752, 3.5752, 3.5752, 3.5751, 3.575, 3.575, 3.575, 3.5749, 3.5748, 3.4841, 3.5274, 2.9399, 2.9397, 2.9397, 3.703, 3.7029, 3.7029, 3.7028, 3.7028, 3.7028, 3.7028, 3.7028, 3.7027, 3.7027, 3.7027, 3.7026, 3.7026, 3.7025, 3.7025, 3.7025, 3.7023, 3.7023, 3.7023, 3.7022, 3.7022, 3.7021, 3.7021, 3.7021, 3.702, 3.702, 3.7019, 3.7018, 3.7017, 3.7015, 1.3282, 0.4379, 3.9571, 3.9569, 3.9567, 3.9567, 3.9566, 3.9565, 3.9562, 3.9562, 3.9561, 3.9561, 3.9561, 3.9558, 3.9558, 3.9558, 3.9558, 3.9557, 3.9555, 3.9555, 3.9555, 3.9554, 3.955, 3.955, 3.9547, 3.9547, 3.9546, 3.9543, 3.9543, 3.9541, 3.9537, 3.9536, 3.7366, 3.7366, 3.7938, 3.9878, 3.9877, 3.9875, 3.9875, 3.9872, 3.9871, 3.9871, 3.9869, 3.9868, 3.9866, 3.9864, 3.9862, 3.9861, 3.986, 3.986, 3.9857, 3.9851, 3.9847, 3.9843, 3.9843, 3.9843, 3.9843, 3.9843, 3.9838, 3.9837, 3.9837, 3.9837, 3.9837, 3.9837, 3.9837, 3.9832, 3.9832, 3.9832, 3.9523, 3.9523, 3.9523, 3.9523, 3.9523, 3.9308]}, \"token.table\": {\"Topic\": [17, 19, 15, 19, 18, 17, 11, 12, 18, 10, 6, 3, 4, 5, 6, 12, 13, 10, 17, 18, 11, 4, 15, 13, 13, 3, 10, 9, 9, 5, 9, 11, 7, 18, 20, 2, 11, 12, 20, 12, 15, 4, 11, 19, 1, 2, 3, 4, 5, 6, 7, 8, 9, 10, 11, 12, 13, 15, 17, 4, 1, 2, 3, 4, 5, 6, 8, 11, 20, 15, 16, 2, 10, 16, 12, 17, 17, 6, 1, 10, 2, 17, 20, 13, 18, 11, 1, 8, 20, 1, 10, 1, 20, 12, 17, 6, 9, 2, 16, 11, 6, 3, 18, 19, 3, 2, 20, 20, 8, 18, 15, 5, 18, 14, 7, 1, 7, 2, 3, 19, 1, 19, 18, 11, 8, 4, 17, 1, 2, 3, 4, 5, 6, 7, 8, 9, 10, 11, 12, 13, 14, 15, 16, 17, 20, 20, 8, 7, 10, 6, 11, 9, 2, 2, 5, 9, 11, 19, 7, 18, 7, 18, 1, 2, 3, 5, 6, 7, 12, 15, 18, 3, 6, 1, 6, 16, 9, 14, 15, 9, 1, 5, 7, 10, 13, 16, 2, 20, 11, 1, 19, 4, 1, 2, 3, 4, 5, 6, 7, 8, 9, 10, 11, 12, 13, 15, 17, 11, 18, 4, 16, 16, 20, 6, 12, 7, 13, 18, 1, 2, 3, 4, 5, 6, 8, 11, 20, 17, 3, 10, 5, 13, 4, 19, 18, 12, 16, 9, 19, 20, 6, 20, 10, 17, 11, 15, 4, 1, 2, 3, 4, 5, 6, 7, 8, 9, 13, 15, 16, 18, 8, 9, 15, 10, 15, 19, 8, 15, 4, 11, 9, 13, 13, 2, 1, 16, 9, 17, 2, 3, 9, 1, 7, 10, 13, 6, 4, 2, 16, 7, 13, 6, 3, 2, 11, 1, 2, 3, 4, 5, 6, 8, 11, 20, 19, 19, 8, 5, 14, 17, 8, 5, 14, 19, 1, 2, 3, 4, 5, 6, 7, 8, 9, 10, 11, 12, 13, 14, 15, 16, 17, 19, 20, 7, 18, 5, 20, 10, 14, 12, 20, 9, 6, 20, 20, 20, 17, 16, 14, 3, 13, 9, 17, 9, 1, 2, 3, 4, 5, 6, 7, 8, 9, 10, 11, 12, 13, 14, 15, 16, 17, 19, 20, 4, 16, 14, 9, 1, 4, 12, 19, 7, 14, 13, 13, 20, 5, 5, 15, 2, 8, 1, 19, 10, 11, 18, 19, 5, 1, 9, 14, 1, 2, 3, 5, 6, 7, 12, 15, 18, 12, 1, 7, 7, 15, 14, 19, 4, 15, 3, 4, 1, 2, 3, 4, 5, 6, 8, 11, 20, 12, 2, 1, 2, 3, 5, 6, 8, 13, 15, 16, 17, 16, 7, 9, 8, 5, 5, 12, 16, 13, 19, 7, 16, 8, 14, 10, 16, 2, 18, 6, 2, 8, 7, 17, 4, 15, 6, 12, 4, 12, 17, 16, 3, 15, 9, 5, 1, 10, 17, 14, 12, 1, 2, 4, 5, 6, 9, 18, 8, 2, 18, 18, 2, 15, 20, 8, 13, 11, 9, 8, 3, 14, 4, 1, 6, 11, 13, 17, 13, 12, 18, 19, 17, 11, 2, 6, 11, 13, 17, 2, 20, 15, 9, 14, 10, 16, 6, 10, 17, 8, 10, 5, 6, 15, 1, 1, 12, 1, 6, 14, 17, 1, 2, 3, 4, 5, 6, 8, 11, 20, 1, 2, 3, 4, 5, 6, 7, 8, 9, 10, 11, 12, 13, 15, 17, 9, 19, 5, 3, 10, 5, 1, 2, 3, 5, 6, 7, 12, 15, 18, 2, 13, 20, 19, 13, 7, 16, 19, 20, 20, 9, 20, 9, 2, 13, 10, 2, 7, 10, 14, 8, 18, 13, 8, 3, 15, 14, 15, 10, 8, 16, 12, 2, 9, 5, 2, 7, 10, 5, 19, 19, 13, 11, 14, 3, 1, 6, 11, 18, 1, 14, 13, 3, 12, 10, 1, 12, 1, 2, 3, 4, 5, 6, 7, 8, 9, 13, 15, 16, 18, 9, 17, 4, 7, 6, 14, 9, 20, 1, 1, 2, 3, 5, 6, 7, 12, 15, 18, 14, 6, 1, 1, 20, 4, 4, 13, 13, 14, 16, 4, 2, 19, 3, 8, 1, 13, 8, 4, 10, 6, 10, 15, 15, 14, 19, 16, 17, 15, 11, 13, 16, 15, 5, 17, 1, 2, 3, 5, 6, 7, 12, 15, 18, 6, 12, 17, 18, 13, 8, 4, 12, 6, 2, 3, 20, 4, 14, 7, 18, 15, 14, 5, 1, 12, 4, 14, 8, 20, 3, 20, 8, 1, 1, 11, 3, 3, 3, 17, 15, 5, 3, 13, 19, 7, 17, 7, 17, 1, 13, 11, 5, 9, 16, 16, 2, 7, 12, 20, 11, 11, 8, 2, 14, 4, 12, 5, 15, 8, 7, 7, 14, 1, 8, 16, 12, 14, 11, 1, 6, 15, 3, 4, 7, 10, 20, 7, 13, 8, 20, 15, 17, 14, 1, 2, 3, 4, 5, 6, 7, 8, 9, 10, 11, 12, 13, 20, 3, 3, 1, 8, 3, 5, 3, 4, 18, 2, 6, 1, 4, 18, 16, 3, 3, 5, 6, 17, 12, 8, 15, 19, 20, 11, 7, 6, 10, 6, 5, 7, 14, 4, 3, 16, 8, 19, 17, 7, 11, 16, 2, 8, 6, 18, 2, 10, 18, 18, 16, 4, 13, 6, 16, 12, 18, 15, 11, 6, 5, 10, 5, 11, 12, 9, 1, 4, 5, 7, 12, 15, 19, 5, 20, 20, 13, 10, 7, 15, 11, 16, 6, 17, 8, 5, 12, 18, 16], \"Freq\": [0.9983539352849653, 0.998682818347275, 0.0028274459155560785, 0.9962034442475916, 0.9992899503783811, 0.999492714754154, 0.999752027040506, 0.9985844649029342, 0.9993991929094596, 0.9995948956641222, 0.9995045026736709, 0.0010267950459576928, 0.995991194578962, 0.0005133975229788464, 0.0005133975229788464, 0.0005133975229788464, 0.0005133975229788464, 0.9989374940721856, 0.9991610053603177, 0.9994921631775873, 0.9994682845694275, 0.9993688743949536, 0.999836692597343, 0.9997721380085564, 0.9990591376880849, 0.9992050208426205, 0.9989018227464346, 0.9993808124222275, 0.9991534616474117, 0.9996902273708849, 0.999418372514045, 0.9990902833297829, 0.9999676211103955, 0.9989969763087537, 0.9999751726532987, 0.999759385722644, 0.9995013359701554, 0.999602095420279, 0.9972280132643028, 0.999665318555518, 0.9993433878851433, 0.9998383226493754, 0.9996675090054974, 0.9984088062811431, 0.00513364700405853, 0.17014372927736843, 0.02493485687685572, 0.0007333781434369329, 0.008067159577806262, 0.0007333781434369329, 0.05647011704464384, 0.011000672151553995, 0.09460578050336435, 0.07187105805681943, 0.007333781434369329, 0.01760107544248639, 0.0007333781434369329, 0.0007333781434369329, 0.5287656414180286, 0.9997761550235845, 0.012258693392515398, 0.004086231130838466, 0.002043115565419233, 0.002043115565419233, 0.002043115565419233, 0.002043115565419233, 0.002043115565419233, 0.004086231130838466, 0.964350546877878, 0.9997397165745217, 0.9993781777826446, 0.999749504813635, 0.9996964028994224, 0.9981610492189867, 0.9996003954036595, 0.998141032546886, 0.998175010663167, 0.999256644247874, 0.9998155677160896, 0.9995889077529819, 0.999449519938512, 0.9995579637889677, 0.9952518179673778, 0.9993072914586736, 0.998801384641945, 0.999857302291839, 0.9996817069573076, 0.9993269940428414, 0.995792908718098, 0.9995842704622151, 0.999076324402485, 0.9998699801487487, 0.9985183689137587, 0.998890578921082, 0.9975087723649756, 0.9992520427165851, 0.9992043951454842, 0.9995309596223861, 0.9998002576073931, 0.9990125693004394, 0.9994679280764998, 0.9990834154380273, 0.9988270050275023, 0.9988785840780414, 0.9995840246279265, 0.0021704194971022906, 0.9962225491699512, 0.9993897903857062, 0.999628776329811, 0.9984710805877887, 0.9995877909883966, 0.9993856971099817, 0.9989166989385144, 0.9991516246632184, 0.99950860959029, 0.9997491191846085, 0.9988500992743975, 0.9996896065729196, 0.9991865832452802, 0.9985841015994793, 0.9999959289694198, 0.9981962381409546, 0.9984625194760317, 0.9989794883694381, 0.9994124455788397, 0.9991969528062371, 0.9986554707880504, 0.015272499433827125, 0.017454285067231, 0.0856350861111021, 0.7221710446566826, 0.022908749150740686, 0.027272320417548436, 0.0016363392250529063, 0.0016363392250529063, 0.0016363392250529063, 0.0016363392250529063, 0.0010908928167019374, 0.03981758780962072, 0.043635712668077496, 0.0010908928167019374, 0.0010908928167019374, 0.0005454464083509687, 0.0005454464083509687, 0.014181606617125187, 0.9972280132643028, 0.9994406736621423, 0.9996063627016474, 0.9996130864324339, 0.9993037278159204, 0.9996371593904879, 0.9991419818636804, 0.9995931501082069, 0.9998190639340712, 0.9999616859492904, 0.9995194408435482, 0.9994730250721611, 0.9963481805322053, 0.9992431293511063, 0.9994505210957638, 0.9990474399067202, 0.9992132215832358, 0.0035959689905138183, 0.0035959689905138183, 0.0017979844952569091, 0.0071919379810276365, 0.008989922476284546, 0.0017979844952569091, 0.9655176739529602, 0.0035959689905138183, 0.0035959689905138183, 0.9989791307856822, 0.9991167820713327, 0.999672760465561, 0.9996790053698247, 0.9991290095504779, 0.9988855640468183, 0.999055936521117, 0.9993110390932854, 0.9990525463661691, 0.002514456779344413, 0.0005028913558688826, 0.0020115654234755306, 0.0010057827117377653, 0.9922046451293055, 0.0010057827117377653, 0.0021704194971022906, 0.9962225491699512, 0.9994221021465451, 0.99960402017242, 0.9977319921186253, 0.9996759612612309, 0.005133614575632874, 0.17014265450668953, 0.024934699367359675, 0.0007333735108046963, 0.008067108618851659, 0.0007333735108046963, 0.05646976033196161, 0.011000602662070445, 0.09460518289380582, 0.07187060405886024, 0.007333735108046963, 0.01760096425931271, 0.0007333735108046963, 0.0007333735108046963, 0.528762301290186, 0.9987645257448524, 0.9995339640241435, 0.9998357453097773, 0.9992847676026844, 0.9992847676026844, 0.9949401483101921, 0.9991432074749054, 0.999320308704364, 0.999649227705727, 0.9996114295872268, 0.9995832734845768, 0.012258693392515398, 0.004086231130838466, 0.002043115565419233, 0.002043115565419233, 0.002043115565419233, 0.002043115565419233, 0.002043115565419233, 0.004086231130838466, 0.964350546877878, 0.9995875943246851, 0.9994052643858979, 0.9999371916955001, 0.99975500578041, 0.9997640664887996, 0.9997767877193505, 0.9966739546258541, 0.9996089317046296, 0.9996399820506771, 0.9996292154242022, 0.9991533329441822, 0.9983996665970968, 0.0005734633352079821, 0.9990912965882811, 0.9972280132643028, 0.999312470245236, 0.9991781888166054, 0.9987321131741783, 0.9992638558209047, 0.9991030345518283, 0.0252102608241487, 0.003025231298897844, 0.04134482775160387, 0.001008410432965948, 0.014117746061523273, 0.001008410432965948, 0.8218545028672476, 0.002016820865931896, 0.009075693896693533, 0.002016820865931896, 0.002016820865931896, 0.04336164861753577, 0.033277544287876284, 0.9988995925813373, 0.9990238797098508, 0.9984773651918027, 0.9984201082956863, 0.9995375992203688, 0.9989574029565861, 0.9997857371082269, 0.9995800057391927, 0.9998501652083444, 0.9990000643700169, 0.9995809176114899, 0.9991820860383865, 0.9994651808102217, 0.9998246192314457, 0.9997472778072167, 0.9995218120010452, 0.9995950086449528, 0.9976918046445993, 0.9997294792574956, 0.9998287572780442, 0.9992209969710241, 0.002686157057156105, 0.0032233884685873263, 0.0016116942342936631, 0.991729185502034, 0.9993937647452625, 0.9986351585370663, 0.9995710402231172, 0.99964711130395, 0.9996629909179423, 0.9992236726758448, 0.998934125282024, 0.9997197046698595, 0.9997651498550019, 0.9992606791412023, 0.012258693392515398, 0.004086231130838466, 0.002043115565419233, 0.002043115565419233, 0.002043115565419233, 0.002043115565419233, 0.002043115565419233, 0.004086231130838466, 0.964350546877878, 0.9992279059140723, 0.9991582479023999, 0.9994930086698995, 0.999703027038006, 0.9989537586586964, 0.9985861006884283, 0.9998238395871558, 0.9996815493603007, 0.9992367055838166, 0.9999113528819705, 0.011689860175610862, 0.022823060342859303, 0.001669980025087266, 0.009463220142161175, 0.008906560133798752, 0.001113320016724844, 0.001113320016724844, 0.001113320016724844, 0.001113320016724844, 0.06123260091986642, 0.000556660008362422, 0.001113320016724844, 0.001113320016724844, 0.000556660008362422, 0.000556660008362422, 0.022823060342859303, 0.000556660008362422, 0.8021470720502502, 0.0506560607609804, 0.9994635670494871, 0.9982407300271253, 0.9995897017855758, 0.9995764706731928, 0.99906385509685, 0.9990295677453742, 0.9998007644267871, 0.9985072773861141, 0.9988498705246494, 0.9988376005439406, 0.9952518179673778, 0.9972280132643028, 0.9993177266493183, 0.9984928001732888, 0.9999093999446643, 0.9991853543238071, 0.9997626065669433, 0.9990826931030036, 0.9996670898053168, 0.9995608043899804, 0.9990986722062365, 0.011689860175610862, 0.022823060342859303, 0.001669980025087266, 0.009463220142161175, 0.008906560133798752, 0.001113320016724844, 0.001113320016724844, 0.001113320016724844, 0.001113320016724844, 0.06123260091986642, 0.000556660008362422, 0.001113320016724844, 0.001113320016724844, 0.000556660008362422, 0.000556660008362422, 0.022823060342859303, 0.000556660008362422, 0.8021470720502502, 0.0506560607609804, 0.9997924391047085, 0.9991947800274052, 0.9998510264132682, 0.9995250101986721, 0.9999974493630182, 0.9996650243263212, 0.9995494450721706, 0.9980482622487167, 0.9990611626455299, 0.9992025995066445, 0.9989086750056175, 0.9991714491429126, 0.9944084536020176, 0.9997879047403959, 0.9992438600785586, 0.9994034652489271, 0.9996736584499045, 0.9996712810102057, 0.9999362211990652, 0.999197475862374, 0.9987553279118305, 0.9993879527700175, 0.999683646014155, 0.998372314172934, 0.9994437211428492, 0.9998338239829229, 0.9984694427904701, 0.9992741141961661, 0.003757554495944609, 0.003757554495944609, 0.0018787772479723045, 0.007515108991889218, 0.00845449761587537, 0.0018787772479723045, 0.9638127282097922, 0.003757554495944609, 0.003757554495944609, 0.9996396477710052, 0.08634511301480963, 0.913129140375795, 0.9996269407127325, 0.9993496502376491, 0.9998658448108113, 0.9993435711435084, 0.9995575363124931, 0.9986759081940473, 0.9993611454601785, 0.99986329207081, 0.012258692570945865, 0.004086230856981955, 0.0020431154284909774, 0.0020431154284909774, 0.0020431154284909774, 0.0020431154284909774, 0.0020431154284909774, 0.004086230856981955, 0.9643504822477413, 0.9999480178132261, 0.9994255770360089, 0.0015272499678677135, 0.01679974964654485, 0.004581749903603141, 0.012981624726875566, 0.004581749903603141, 0.005345374887536998, 0.0007636249839338568, 0.0007636249839338568, 0.0007636249839338568, 0.9522403549655195, 0.9983505067351199, 0.9993648386834889, 0.9991896785309706, 0.9991104592536845, 0.9996842438519445, 0.9993644772440226, 0.9997659925481253, 0.9991430946057429, 0.9992487425009048, 0.9993736491935257, 0.9994356076769749, 0.9982473464536356, 0.9992295913014886, 0.9984871140158933, 0.9998716188117249, 0.9991290095504779, 0.9995695718905349, 0.9997140528821927, 0.9999093805556002, 0.9994159291213147, 0.9996916747300569, 0.9999034938779428, 0.9989670586121053, 0.999784890600396, 0.9992418094755524, 0.9995147328603435, 0.9997512315947756, 0.9992212944044346, 0.999266212539331, 0.9998643994711883, 0.9997184808999688, 0.9992805043968573, 0.9994432847310493, 0.9990219553674509, 0.9998862288896507, 0.9997644810018609, 0.9989585429035697, 0.9994972277648737, 0.9994454482175532, 0.9994985077604873, 0.0015073964302064699, 0.0007536982151032349, 0.0015073964302064699, 0.9926205492909603, 0.0022610946453097045, 0.0015073964302064699, 0.9988837452079516, 0.9991591978957377, 0.9998659586568636, 0.9998455740476405, 0.9995852538625154, 0.999925364236843, 0.9993096594568863, 0.9972280132643028, 0.9995770305912612, 0.999064106389728, 0.9993691617362807, 0.9991092235311676, 0.9994736738933993, 0.9992365147737765, 0.999531652516178, 0.999780279896679, 0.00028000858741638696, 0.0005600171748327739, 0.990670382279177, 0.00028000858741638696, 0.008120249035075222, 0.9989267899289604, 0.9985225944070473, 0.9993092177094087, 0.9994830701877289, 0.9983008027715785, 0.9996814152649587, 0.9997603772939985, 0.0005115990859231639, 0.9976182175501697, 0.0005115990859231639, 0.0010231981718463279, 0.002170419499551347, 0.9962225502940684, 0.9995116102387809, 0.9993995725407567, 0.9988368367037825, 0.9999307469094028, 0.9991207406903475, 0.998599030702646, 0.9990796581369366, 0.9997740666624545, 0.9997491531092246, 0.9995570386278894, 0.9992057637798418, 0.9998448811701021, 0.9995669375720528, 0.9995865652739973, 0.9998061595231591, 0.9995769128525611, 0.03776648714865374, 0.02810529276178883, 0.022396405169550476, 0.9116654339605251, 0.012258692570945865, 0.004086230856981955, 0.0020431154284909774, 0.0020431154284909774, 0.0020431154284909774, 0.0020431154284909774, 0.0020431154284909774, 0.004086230856981955, 0.9643504822477413, 0.005133614585552685, 0.17014265483546043, 0.024934699415541613, 0.0007333735122218122, 0.008067108634439935, 0.0007333735122218122, 0.056469760441079535, 0.011000602683327183, 0.09460518307661377, 0.0718706041977376, 0.007333735122218122, 0.01760096429332349, 0.0007333735122218122, 0.0007333735122218122, 0.5287623023119266, 0.9990972772816706, 0.9985808922826275, 0.998770121660781, 0.9999143083247772, 0.9996263343677863, 0.9997018729234952, 0.0035959689905138183, 0.0035959689905138183, 0.0017979844952569091, 0.0071919379810276365, 0.008989922476284546, 0.0017979844952569091, 0.9655176739529602, 0.0035959689905138183, 0.0035959689905138183, 0.9995383254427574, 0.9992443483156399, 0.994582114521453, 0.9973921642446758, 0.9993450681213607, 0.999456263144453, 0.9998876041981415, 0.9961242621639401, 0.9972913313932357, 0.9983656560169007, 0.9994045016610598, 0.9998424088762708, 0.9994685380727791, 0.9997187126222431, 0.9985442429592928, 0.9988965100916044, 0.999874259887406, 0.9988112732295805, 0.9997200313988295, 0.99978728696917, 0.9069626771821144, 0.09302749688967225, 0.999256490874023, 0.9988341641792731, 0.9994096355587115, 0.9993010890329607, 0.9983874271132565, 0.999771978933137, 0.9987185337998365, 0.6526218655491884, 0.3471637689369195, 0.9984080169702417, 0.9997690527705768, 0.9995032393484449, 0.9989985681675432, 0.999911605995027, 0.9995965063488838, 0.9990202012092663, 0.9999020268316752, 0.9997623109243039, 0.9994233160805339, 0.9994822484981211, 0.9992998954990152, 0.999770555895343, 0.999659868009008, 0.9999849578173428, 0.9997701134708583, 0.9997688344861052, 0.9996651075699632, 0.9997595020931942, 0.9998285943724342, 0.998815203101898, 0.9993232174562865, 0.9990625754455575, 0.9993627587170085, 0.999715863909537, 0.9994044367320664, 0.01604697772889474, 0.0020058722161118425, 0.019055786053062504, 0.0010029361080559213, 0.010029361080559213, 0.0010029361080559213, 0.9146777305470002, 0.0020058722161118425, 0.010029361080559213, 0.0010029361080559213, 0.0020058722161118425, 0.009026424972503291, 0.010029361080559213, 0.9992310769413286, 0.9989613175320535, 0.9998207627447264, 0.9995667238966383, 0.9997523374863149, 0.9993236475328982, 0.9988864969778416, 0.9952518179673778, 0.999905925453136, 0.0035959689905138183, 0.0035959689905138183, 0.0017979844952569091, 0.0071919379810276365, 0.008989922476284546, 0.0017979844952569091, 0.9655176739529602, 0.0035959689905138183, 0.0035959689905138183, 0.9988269064196948, 0.9997070867701559, 0.9999902500289887, 0.9997014946929479, 0.00028177803204574095, 0.9999218803213142, 0.9997992438051683, 0.999917273864966, 0.9995471026599847, 0.9994265431510362, 0.9995808507423948, 0.999761440822917, 0.9997849227360057, 0.9973179567155805, 0.999454788543204, 0.9995654160920966, 0.9998498436725668, 0.9992294245140212, 0.9994114206219217, 0.9995464866887371, 0.999791365611433, 0.9993177997342712, 0.9998494991089522, 0.9988334128915342, 0.999113205216541, 0.9989298350865069, 0.9971397146186778, 0.999799717594388, 0.9992395347658961, 0.9995099378856359, 0.9994227127911176, 0.9993688412995968, 0.9995332897367116, 0.9995354381301712, 0.9997096949121104, 0.9980871672759574, 0.0035959689905138183, 0.0035959689905138183, 0.0017979844952569091, 0.0071919379810276365, 0.008989922476284546, 0.0017979844952569091, 0.9655176739529602, 0.0035959689905138183, 0.0035959689905138183, 0.9992549300673036, 0.9996841135703577, 0.9998686441382956, 0.9994466341375291, 0.9997351425102556, 0.9996055175637548, 0.999935003171743, 0.9996064324230688, 0.9988739184190839, 0.9997499929266225, 0.999239956180392, 0.9981656017427806, 0.9992216498874164, 0.9994854820219415, 0.9996314887948594, 0.9983793500825958, 0.9987537802858023, 0.999770555895343, 0.9993961179187697, 0.9997103249268599, 0.9989003678049913, 0.9997297430776261, 0.9997813343362043, 0.9991810023898408, 0.999871272319128, 0.9993344026968282, 0.9982289345197317, 0.9987327467797331, 0.999741117055917, 0.9998653624233715, 0.9987551510062146, 0.9996210415451476, 0.9995352685564013, 0.9996302501757358, 0.997503001358571, 0.9988817534141767, 0.9996071972187442, 0.9991212067644016, 0.9994224004947871, 0.9964948578247204, 0.999195509853955, 0.9990874904667145, 0.9991720899010823, 0.9993917593791797, 0.9999190308604634, 0.9995656397484364, 0.9989587539614545, 0.9989775747373983, 0.9995395254894641, 0.9993844908031418, 0.9993637244015043, 0.9998863980260048, 0.9994441645319035, 0.9987293764342986, 0.998345295336316, 0.9995216261234803, 0.9992393937836345, 0.9994439698642643, 0.9995269139600493, 0.9997813343362043, 0.9994456308556984, 0.9992235564505854, 0.9996620440754413, 0.9995017567465775, 0.9990607070422101, 0.998819045113716, 0.9999130698326782, 0.9990602959529264, 0.9998451499678063, 0.9995627429785864, 0.999640336456647, 0.999166578584524, 0.9994650930168157, 0.9994264298529199, 0.9995011468981958, 0.9944318526356123, 0.003710566614311986, 0.9997794853469375, 0.999847203899148, 0.9997999418110214, 0.999419711515467, 0.9994812590923269, 0.9991175184349399, 0.9993537677724169, 0.9993571642841448, 0.999613233709997, 0.999177016957326, 0.9991045223998734, 0.999529066788872, 0.010425450137656453, 0.001737575022942742, 0.001737575022942742, 0.015638175206484677, 0.001737575022942742, 0.001737575022942742, 0.001737575022942742, 0.001737575022942742, 0.001737575022942742, 0.001737575022942742, 0.013900600183541936, 0.001737575022942742, 0.001737575022942742, 0.9452408124808517, 0.9996647827267781, 0.9989560902361315, 0.9999939098531048, 0.9998625249163483, 0.9999376456406209, 0.9997145946298429, 0.9999260763523654, 0.961781254523876, 0.03820131767510941, 0.9999262498076511, 0.9995411073312181, 0.999858275205238, 0.9997034805133143, 0.9996130692564725, 0.9992927913138246, 0.9997558712358015, 0.9993476482101817, 0.9988336201623425, 0.9999346013928501, 0.9996179370635909, 0.999182017127747, 0.99965097176521, 0.9995078155023794, 0.9989124708302267, 0.997941992673536, 0.9989755962826685, 0.9993535048324935, 0.9996613541555278, 0.9993798946061252, 0.9997413610484819, 0.9993856451395978, 0.9996947392762591, 0.9985618333687444, 0.9998251982545477, 0.9972268746106245, 0.0027695750890899223, 0.9998205587431066, 0.9975609769280003, 0.999572279400606, 0.999419326710355, 0.9996902714179342, 0.9998500202121801, 0.9999277892023949, 0.9987137630167956, 0.9988503043199947, 0.9997400817601326, 0.9996286198630105, 0.9996575466974027, 0.9992299305051766, 0.9997566446369015, 0.999334015723107, 0.9995214523977921, 0.9997671594138385, 0.9998768775568355, 0.9989538083293583, 0.9990588162350783, 0.9992068533149829, 0.9992041871655541, 0.9997067921272033, 0.9987980129559759, 0.9999281177490349, 0.9989577280702018, 0.9999048888260386, 0.9991737485109031, 0.9987028727399601, 0.9993561365287411, 0.003774284531754251, 0.003774284531754251, 0.0018871422658771255, 0.0018871422658771255, 0.0018871422658771255, 0.13587424314315305, 0.8492140196447064, 0.9995825094570043, 0.9993907738781267, 0.9952518183189392, 0.9986798905688005, 0.9995893698601174, 0.9982148149642046, 0.9994125101853355, 0.9992384609103035, 0.9992847676026844, 0.9988464692785508, 0.9993599480483872, 0.9988840338314989, 0.9999516565405527, 0.9995245560571037, 0.9996226670680731, 0.9997635961067887], \"Term\": [\"abandoned\", \"absolute\", \"absolute_fucking\", \"absolute_fucking\", \"access\", \"according\", \"act\", \"action\", \"address\", \"admission\", \"advance\", \"advisor\", \"advisor\", \"advisor\", \"advisor\", \"advisor\", \"advisor\", \"afghanistan\", \"africans\", \"aggression\", \"ago\", \"aid\", \"air\", \"aircraft\", \"airspace\", \"alert\", \"allow\", \"almost\", \"already\", \"also\", \"always\", \"america\", \"amp\", \"announced\", \"anonymous\", \"another\", \"anti\", \"anyone\", \"approximately_minutes\", \"armed\", \"arms\", \"army\", \"around\", \"arrested\", \"artillery_shells\", \"artillery_shells\", \"artillery_shells\", \"artillery_shells\", \"artillery_shells\", \"artillery_shells\", \"artillery_shells\", \"artillery_shells\", \"artillery_shells\", \"artillery_shells\", \"artillery_shells\", \"artillery_shells\", \"artillery_shells\", \"artillery_shells\", \"artillery_shells\", \"attack\", \"axcqwplxjm\", \"axcqwplxjm\", \"axcqwplxjm\", \"axcqwplxjm\", \"axcqwplxjm\", \"axcqwplxjm\", \"axcqwplxjm\", \"axcqwplxjm\", \"axcqwplxjm\", \"back\", \"ban\", \"banks\", \"banning\", \"battalion\", \"battle\", \"bayraktar\", \"bayraktar_tb\", \"become\", \"belarus\", \"berlin\", \"biden\", \"big\", \"biggest_energy\", \"black\", \"blocked\", \"bold\", \"border\", \"born\", \"bp\", \"brave\", \"bravery\", \"breaking\", \"broadcast\", \"broadcasting\", \"bucha\", \"built\", \"bullies\", \"business\", \"call\", \"called\", \"came\", \"canada\", \"cant\", \"capital\", \"captured\", \"case_scenarios\", \"case_scenarios\", \"channels\", \"chechen\", \"chernihiv\", \"children\", \"china\", \"chinese\", \"cities\", \"citizens\", \"city\", \"civilian\", \"civilians\", \"claim\", \"close\", \"co\", \"collective\", \"column\", \"columns\", \"come\", \"coming\", \"completely\", \"completely_halted\", \"completely_halted\", \"completely_halted\", \"completely_halted\", \"completely_halted\", \"completely_halted\", \"completely_halted\", \"completely_halted\", \"completely_halted\", \"completely_halted\", \"completely_halted\", \"completely_halted\", \"completely_halted\", \"completely_halted\", \"completely_halted\", \"completely_halted\", \"completely_halted\", \"completely_halted\", \"completely_overtake\", \"confirmed\", \"conflict\", \"continue\", \"control\", \"convoy\", \"cost\", \"could\", \"countries\", \"country\", \"courage\", \"court\", \"coverage\", \"crowd\", \"crucial\", \"currently\", \"cyber\", \"daily_routine\", \"daily_routine\", \"daily_routine\", \"daily_routine\", \"daily_routine\", \"daily_routine\", \"daily_routine\", \"daily_routine\", \"daily_routine\", \"danger\", \"david\", \"day\", \"days\", \"de_arresting\", \"deeply\", \"defenders\", \"defense\", \"democracy\", \"denmark_becomes\", \"denmark_becomes\", \"denmark_becomes\", \"denmark_becomes\", \"denmark_becomes\", \"denmark_becomes\", \"describing_worst\", \"describing_worst\", \"destroy\", \"destroyed\", \"didnt\", \"directions\", \"doctrine_calls\", \"doctrine_calls\", \"doctrine_calls\", \"doctrine_calls\", \"doctrine_calls\", \"doctrine_calls\", \"doctrine_calls\", \"doctrine_calls\", \"doctrine_calls\", \"doctrine_calls\", \"doctrine_calls\", \"doctrine_calls\", \"doctrine_calls\", \"doctrine_calls\", \"doctrine_calls\", \"donate\", \"done\", \"dont\", \"ducky_city\", \"duckycity_saveukraine\", \"ehyhvfjjxc\", \"eiy_ypdvm\", \"emergency\", \"end\", \"energy\", \"entire\", \"epyp\", \"epyp\", \"epyp\", \"epyp\", \"epyp\", \"epyp\", \"epyp\", \"epyp\", \"epyp\", \"equipment\", \"escalation\", \"eu\", \"europe\", \"european\", \"even\", \"evening\", \"ever\", \"every\", \"everyone\", \"everywhere\", \"executive_order\", \"executive_order\", \"expect\", \"experts_estimated\", \"explain\", \"explosion\", \"face\", \"fake\", \"false\", \"false_charges\", \"false_charges\", \"false_charges\", \"false_charges\", \"false_charges\", \"false_charges\", \"false_charges\", \"false_charges\", \"false_charges\", \"false_charges\", \"false_charges\", \"false_charges\", \"false_charges\", \"family\", \"far\", \"farmer\", \"fear\", \"feb\", \"federation\", \"fight\", \"fighter_jets\", \"fighting\", \"filed_lawsuit\", \"find\", \"fine\", \"fire\", \"first\", \"flying\", \"follow\", \"food\", \"footage\", \"force\", \"forces\", \"foreign\", \"foreign_brigade\", \"foreign_brigade\", \"foreign_brigade\", \"foreign_brigade\", \"forget\", \"forgive\", \"free\", \"freedom\", \"friends\", \"general_assembly\", \"germans\", \"germany\", \"get\", \"getting\", \"gewxmfknfg\", \"gewxmfknfg\", \"gewxmfknfg\", \"gewxmfknfg\", \"gewxmfknfg\", \"gewxmfknfg\", \"gewxmfknfg\", \"gewxmfknfg\", \"gewxmfknfg\", \"ghost\", \"ghostofkyiv\", \"give\", \"go\", \"god\", \"god_bless\", \"going\", \"good\", \"got\", \"government\", \"governor_kathy\", \"governor_kathy\", \"governor_kathy\", \"governor_kathy\", \"governor_kathy\", \"governor_kathy\", \"governor_kathy\", \"governor_kathy\", \"governor_kathy\", \"governor_kathy\", \"governor_kathy\", \"governor_kathy\", \"governor_kathy\", \"governor_kathy\", \"governor_kathy\", \"governor_kathy\", \"governor_kathy\", \"governor_kathy\", \"governor_kathy\", \"group\", \"grow\", \"guy\", \"hacked\", \"hackers\", \"happen\", \"happening\", \"happens\", \"hard\", \"hate\", \"hcrlsslp\", \"hd_sqqru\", \"head\", \"heard\", \"help\", \"hero\", \"hes\", \"hi\", \"history\", \"hit\", \"hitler\", \"hokul_democrat\", \"hokul_democrat\", \"hokul_democrat\", \"hokul_democrat\", \"hokul_democrat\", \"hokul_democrat\", \"hokul_democrat\", \"hokul_democrat\", \"hokul_democrat\", \"hokul_democrat\", \"hokul_democrat\", \"hokul_democrat\", \"hokul_democrat\", \"hokul_democrat\", \"hokul_democrat\", \"hokul_democrat\", \"hokul_democrat\", \"hokul_democrat\", \"hokul_democrat\", \"home\", \"hope\", \"hour\", \"hours\", \"https\", \"humanitarian\", \"im\", \"imagine\", \"immediately\", \"india\", \"indian\", \"information\", \"inside\", \"international\", \"invade\", \"invaded\", \"invaders\", \"invading\", \"invasion\", \"investments\", \"iraq\", \"israel\", \"ive\", \"jets\", \"jewish\", \"join\", \"joined\", \"justice\", \"jvc_fkmpo\", \"jvc_fkmpo\", \"jvc_fkmpo\", \"jvc_fkmpo\", \"jvc_fkmpo\", \"jvc_fkmpo\", \"jvc_fkmpo\", \"jvc_fkmpo\", \"jvc_fkmpo\", \"keep\", \"kfldgvnaqx\", \"kfldgvnaqx\", \"kharkiv\", \"kherson\", \"kiev\", \"kill\", \"killed\", \"killing\", \"kiyv\", \"know\", \"kugxdow\", \"kugxdow\", \"kugxdow\", \"kugxdow\", \"kugxdow\", \"kugxdow\", \"kugxdow\", \"kugxdow\", \"kugxdow\", \"kyiv\", \"land\", \"land_mines\", \"land_mines\", \"land_mines\", \"land_mines\", \"land_mines\", \"land_mines\", \"land_mines\", \"land_mines\", \"land_mines\", \"land_mines\", \"largest\", \"last\", \"late\", \"latest\", \"leader\", \"leaders\", \"leadership\", \"leaked\", \"leave\", \"legend\", \"legendary\", \"legendary_political\", \"legion\", \"less\", \"let\", \"let_cops\", \"lets\", \"life\", \"like\", \"listening\", \"little\", \"live\", \"local_residents\", \"long\", \"look\", \"looks\", \"losing\", \"lost\", \"lot\", \"loud\", \"made\", \"major\", \"make\", \"making\", \"man\", \"many\", \"marching\", \"massive\", \"may\", \"maybe\", \"meal\", \"meal\", \"meal\", \"meal\", \"meal\", \"meal\", \"means\", \"meanwhile\", \"media\", \"message\", \"might\", \"military\", \"million\", \"minimal_losses\", \"ministry\", \"missile\", \"missiles\", \"mistake\", \"molotov_cocktails\", \"money\", \"morning\", \"moscow\", \"moscow_underground\", \"moscow_underground\", \"moscow_underground\", \"moscow_underground\", \"moscow_underground\", \"move\", \"moving\", \"moving_speech\", \"mr\", \"mriya\", \"much\", \"must\", \"mvzc_wscuj\", \"mvzc_wscuj\", \"mvzc_wscuj\", \"mvzc_wscuj\", \"mwtxam_dw\", \"mwtxam_dw\", \"named\", \"nation\", \"nations\", \"nato\", \"navalny\", \"nazi\", \"nazis\", \"near\", \"need\", \"needs\", \"negotiations\", \"never\", \"new\", \"new_york\", \"news\", \"night\", \"nkjip_upg\", \"nkjip_upg\", \"nkjip_upg\", \"nkjip_upg\", \"nn_dw\", \"nn_dw\", \"nn_dw\", \"nn_dw\", \"nn_dw\", \"nn_dw\", \"nn_dw\", \"nn_dw\", \"nn_dw\", \"non_strategic\", \"non_strategic\", \"non_strategic\", \"non_strategic\", \"non_strategic\", \"non_strategic\", \"non_strategic\", \"non_strategic\", \"non_strategic\", \"non_strategic\", \"non_strategic\", \"non_strategic\", \"non_strategic\", \"non_strategic\", \"non_strategic\", \"nothing\", \"novosibirsk\", \"nowar\", \"nuclear\", \"nuclear_warheads\", \"nukes\", \"occasional_blasts\", \"occasional_blasts\", \"occasional_blasts\", \"occasional_blasts\", \"occasional_blasts\", \"occasional_blasts\", \"occasional_blasts\", \"occasional_blasts\", \"occasional_blasts\", \"office\", \"official\", \"official_announcement\", \"officially\", \"oil\", \"old\", \"one\", \"operations\", \"opkremlin\", \"opkremlin_fckputin\", \"opposition\", \"oprussia\", \"order\", \"ordering\", \"osint\", \"others\", \"outside\", \"parliament\", \"part\", \"peace\", \"people\", \"people\", \"per\", \"phone\", \"picture\", \"pilot\", \"plane\", \"planes\", \"plans\", \"please\", \"please\", \"pm\", \"poland\", \"political\", \"possible\", \"post\", \"posturing\", \"pray\", \"president\", \"protest\", \"proud\", \"provide\", \"provisional_measures\", \"puppy_alone\", \"put\", \"putin\", \"putinhitler\", \"putins\", \"racism\", \"rally\", \"rambo\", \"read\", \"real\", \"reality\", \"really\", \"refugees\", \"region\", \"remained_silent\", \"remained_silent\", \"remained_silent\", \"remained_silent\", \"remained_silent\", \"remained_silent\", \"remained_silent\", \"remained_silent\", \"remained_silent\", \"remained_silent\", \"remained_silent\", \"remained_silent\", \"remained_silent\", \"remember\", \"report\", \"reported\", \"reporting\", \"resistance\", \"respect\", \"retweet\", \"ri_gjeft\", \"right\", \"ringing_silence\", \"ringing_silence\", \"ringing_silence\", \"ringing_silence\", \"ringing_silence\", \"ringing_silence\", \"ringing_silence\", \"ringing_silence\", \"ringing_silence\", \"romania\", \"rt\", \"russia\", \"russian\", \"russian\", \"russianarmy\", \"russians\", \"russias\", \"russiaukraine\", \"safe\", \"safety\", \"said\", \"sanctions\", \"satellite_images\", \"save\", \"say\", \"says\", \"sea\", \"security\", \"security_council\", \"see\", \"seems\", \"seen\", \"sending\", \"sent\", \"session\", \"several\", \"share\", \"short_range\", \"shot\", \"show\", \"showed\", \"signed\", \"silence\", \"since\", \"singing_everything\", \"sirens_crawling\", \"sirens_crawling\", \"sirens_crawling\", \"sirens_crawling\", \"sirens_crawling\", \"sirens_crawling\", \"sirens_crawling\", \"sirens_crawling\", \"sirens_crawling\", \"sitting\", \"situation\", \"skies\", \"skin\", \"slavaukraini\", \"soldier\", \"soldiers\", \"someone\", \"something\", \"sometimes\", \"son\", \"songs\", \"sons\", \"soon\", \"sound\", \"speak\", \"spend\", \"spot_freezing\", \"spread\", \"stand\", \"standing\", \"stands\", \"stands_guard\", \"start\", \"state\", \"statement\", \"stay_tuned\", \"steals\", \"still\", \"stop\", \"stopped\", \"stopputin\", \"stoprussia\", \"stopwar\", \"story\", \"streets\", \"strong\", \"stuck\", \"students\", \"suffer\", \"suffering\", \"sun\", \"sunday\", \"supply\", \"support\", \"supporting\", \"supportukraine\", \"survived\", \"sweden\", \"swift\", \"system\", \"take\", \"taken\", \"talk\", \"tango\", \"tank\", \"tanks\", \"tell\", \"thank\", \"theyve_named\", \"thing\", \"things\", \"think\", \"thousand\", \"thousands\", \"tigray\", \"time\", \"times\", \"today\", \"together\", \"told\", \"tomorrow\", \"tonight\", \"top\", \"toronto\", \"touches\", \"touches\", \"towards\", \"troops\", \"true\", \"trump\", \"truth\", \"try\", \"trying\", \"turn\", \"tv\", \"two\", \"ucrania\", \"ueifgpzyd\", \"uezkz_hhpb\", \"uezkz_hhpb\", \"uezkz_hhpb\", \"uezkz_hhpb\", \"uezkz_hhpb\", \"uezkz_hhpb\", \"uezkz_hhpb\", \"uezkz_hhpb\", \"uezkz_hhpb\", \"uezkz_hhpb\", \"uezkz_hhpb\", \"uezkz_hhpb\", \"uezkz_hhpb\", \"uezkz_hhpb\", \"uk\", \"ukraina\", \"ukraine\", \"ukraineinvasion\", \"ukrainerussia\", \"ukraines\", \"ukrainewar\", \"ukrainian\", \"ukrainian\", \"ukrainians\", \"ukrania\", \"ukriane\", \"un\", \"understand\", \"united\", \"units\", \"update\", \"upon\", \"us\", \"usa\", \"used\", \"using\", \"ussr\", \"vajtds\", \"vbq_pqnjpc\", \"vehicles\", \"via\", \"video\", \"view\", \"vladimir\", \"volodymyr\", \"volunteers\", \"vs\", \"want\", \"war\", \"war\", \"warinukraine\", \"wars\", \"watch\", \"watching\", \"way\", \"weapons\", \"website\", \"websites\", \"week\", \"well\", \"west\", \"western\", \"white\", \"whole\", \"win\", \"withdrawal\", \"withdrawing\", \"within\", \"without\", \"women\", \"womogqxtwx\", \"words\", \"work\", \"working\", \"world\", \"worldwar\", \"would\", \"wow\", \"wrong\", \"wrong_side\", \"wukxg_engj\", \"wukxg_engj\", \"wukxg_engj\", \"wukxg_engj\", \"wukxg_engj\", \"wukxg_engj\", \"wukxg_engj\", \"wwiii\", \"yacht\", \"ye_fkp\", \"year_old\", \"years\", \"yemen\", \"yes\", \"yet\", \"ykgrgzdn\", \"yl\", \"yo\", \"youre\", \"zelensky\", \"zelenskyy\", \"\\u0440\\u043e\\u0441\\u0441\\u0438\\u044f\", \"\\u0443\\u043a\\u0440\\u0430\\u0456\\u043d\\u0430\"]}, \"R\": 30, \"lambda.step\": 0.01, \"plot.opts\": {\"xlab\": \"PC1\", \"ylab\": \"PC2\"}, \"topic.order\": [18, 17, 1, 15, 4, 20, 12, 11, 3, 19, 10, 16, 14, 9, 5, 2, 8, 7, 13, 6]};\n",
              "\n",
              "function LDAvis_load_lib(url, callback){\n",
              "  var s = document.createElement('script');\n",
              "  s.src = url;\n",
              "  s.async = true;\n",
              "  s.onreadystatechange = s.onload = callback;\n",
              "  s.onerror = function(){console.warn(\"failed to load library \" + url);};\n",
              "  document.getElementsByTagName(\"head\")[0].appendChild(s);\n",
              "}\n",
              "\n",
              "if(typeof(LDAvis) !== \"undefined\"){\n",
              "   // already loaded: just create the visualization\n",
              "   !function(LDAvis){\n",
              "       new LDAvis(\"#\" + \"ldavis_el11021403559399068969393701006\", ldavis_el11021403559399068969393701006_data);\n",
              "   }(LDAvis);\n",
              "}else if(typeof define === \"function\" && define.amd){\n",
              "   // require.js is available: use it to load d3/LDAvis\n",
              "   require.config({paths: {d3: \"https://d3js.org/d3.v5\"}});\n",
              "   require([\"d3\"], function(d3){\n",
              "      window.d3 = d3;\n",
              "      LDAvis_load_lib(\"https://cdn.jsdelivr.net/gh/bmabey/pyLDAvis@3.3.1/pyLDAvis/js/ldavis.v3.0.0.js\", function(){\n",
              "        new LDAvis(\"#\" + \"ldavis_el11021403559399068969393701006\", ldavis_el11021403559399068969393701006_data);\n",
              "      });\n",
              "    });\n",
              "}else{\n",
              "    // require.js not available: dynamically load d3 & LDAvis\n",
              "    LDAvis_load_lib(\"https://d3js.org/d3.v5.js\", function(){\n",
              "         LDAvis_load_lib(\"https://cdn.jsdelivr.net/gh/bmabey/pyLDAvis@3.3.1/pyLDAvis/js/ldavis.v3.0.0.js\", function(){\n",
              "                 new LDAvis(\"#\" + \"ldavis_el11021403559399068969393701006\", ldavis_el11021403559399068969393701006_data);\n",
              "            })\n",
              "         });\n",
              "}\n",
              "</script>"
            ]
          },
          "metadata": {},
          "execution_count": 24
        }
      ],
      "source": [
        "#! pip install pyLDAvis\n",
        "\n",
        "# Plotting tools\n",
        "import pyLDAvis\n",
        "import pyLDAvis.gensim_models \n",
        "pyLDAvis.enable_notebook()\n",
        "import matplotlib.pyplot as plt\n",
        "%matplotlib inline\n",
        "\n",
        "# Visualize the topics\n",
        "pyLDAvis.enable_notebook()\n",
        "vis = pyLDAvis.gensim_models.prepare(lda_model, corpus, id2word)\n",
        "vis"
      ]
    }
  ],
  "metadata": {
    "interpreter": {
      "hash": "d1cad01a2fa484a596042af4c5a27bfadd01597140342827aba738977e0e7eb3"
    },
    "kernelspec": {
      "display_name": "Python 3.8.5 32-bit",
      "language": "python",
      "name": "python3"
    },
    "language_info": {
      "codemirror_mode": {
        "name": "ipython",
        "version": 3
      },
      "file_extension": ".py",
      "mimetype": "text/x-python",
      "name": "python",
      "nbconvert_exporter": "python",
      "pygments_lexer": "ipython3",
      "version": "3.8.5"
    },
    "orig_nbformat": 4,
    "colab": {
      "name": "modelagem-topicos.ipynb",
      "provenance": []
    }
  },
  "nbformat": 4,
  "nbformat_minor": 0
}