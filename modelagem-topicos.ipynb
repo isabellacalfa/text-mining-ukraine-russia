{
 "cells": [
  {
   "cell_type": "markdown",
   "metadata": {},
   "source": [
    "Referência: https://www.machinelearningplus.com/nlp/topic-modeling-gensim-python/#:~:text=Topic%20Modeling%20is%20a%20technique,in%20the%20Python%27s%20Gensim%20package."
   ]
  },
  {
   "cell_type": "code",
   "execution_count": 1,
   "metadata": {},
   "outputs": [
    {
     "name": "stderr",
     "output_type": "stream",
     "text": [
      "[nltk_data] Downloading package stopwords to C:\\Users\\Isabella\n",
      "[nltk_data]     Calfa\\AppData\\Roaming\\nltk_data...\n",
      "[nltk_data]   Package stopwords is already up-to-date!\n"
     ]
    }
   ],
   "source": [
    "# Bibliotecas\n",
    "import nltk; nltk.download('stopwords')\n",
    "import re\n",
    "import numpy as np\n",
    "import pandas as pd\n",
    "from pprint import pprint\n",
    "# Gensim\n",
    "import gensim\n",
    "import gensim.corpora as corpora\n",
    "from gensim.utils import simple_preprocess\n",
    "from gensim.models import CoherenceModel\n",
    "\n",
    "# Enable logging for gensim - optional\n",
    "import logging\n",
    "logging.basicConfig(format='%(asctime)s : %(levelname)s : %(message)s', level=logging.ERROR)\n",
    "\n",
    "import warnings\n",
    "warnings.filterwarnings(\"ignore\",category=DeprecationWarning)\n"
   ]
  },
  {
   "cell_type": "code",
   "execution_count": 2,
   "metadata": {},
   "outputs": [],
   "source": [
    "# NLTK Stop words\n",
    "from nltk.corpus import stopwords\n",
    "stop_words = stopwords.words('english')\n",
    "stop_words.extend(['from', 'subject', 're', 'edu', 'use'])"
   ]
  },
  {
   "cell_type": "code",
   "execution_count": 3,
   "metadata": {},
   "outputs": [
    {
     "data": {
      "text/html": [
       "<div>\n",
       "<style scoped>\n",
       "    .dataframe tbody tr th:only-of-type {\n",
       "        vertical-align: middle;\n",
       "    }\n",
       "\n",
       "    .dataframe tbody tr th {\n",
       "        vertical-align: top;\n",
       "    }\n",
       "\n",
       "    .dataframe thead th {\n",
       "        text-align: right;\n",
       "    }\n",
       "</style>\n",
       "<table border=\"1\" class=\"dataframe\">\n",
       "  <thead>\n",
       "    <tr style=\"text-align: right;\">\n",
       "      <th></th>\n",
       "      <th>Unnamed: 0</th>\n",
       "      <th>userid</th>\n",
       "      <th>username</th>\n",
       "      <th>acctdesc</th>\n",
       "      <th>location</th>\n",
       "      <th>following</th>\n",
       "      <th>followers</th>\n",
       "      <th>totaltweets</th>\n",
       "      <th>usercreatedts</th>\n",
       "      <th>tweetid</th>\n",
       "      <th>tweetcreatedts</th>\n",
       "      <th>retweetcount</th>\n",
       "      <th>text</th>\n",
       "      <th>hashtags</th>\n",
       "      <th>language</th>\n",
       "      <th>coordinates</th>\n",
       "      <th>favorite_count</th>\n",
       "      <th>extractedts</th>\n",
       "    </tr>\n",
       "  </thead>\n",
       "  <tbody>\n",
       "    <tr>\n",
       "      <th>0</th>\n",
       "      <td>1141800</td>\n",
       "      <td>1466752038960656385</td>\n",
       "      <td>Curtin2Tiffany</td>\n",
       "      <td>I am just like everyone else.  The universe ex...</td>\n",
       "      <td>Colorado, USA</td>\n",
       "      <td>253</td>\n",
       "      <td>40</td>\n",
       "      <td>94</td>\n",
       "      <td>2021-12-03 12:52:22.000000</td>\n",
       "      <td>1497724980259262467</td>\n",
       "      <td>2022-02-27 00:07:16</td>\n",
       "      <td>5</td>\n",
       "      <td>#UkraineRussiaWar Captured Russian soldiers\\n\\...</td>\n",
       "      <td>[{'text': 'UkraineRussiaWar', 'indices': [19, ...</td>\n",
       "      <td>en</td>\n",
       "      <td>NaN</td>\n",
       "      <td>0</td>\n",
       "      <td>2022-02-27 00:09:33.084131</td>\n",
       "    </tr>\n",
       "    <tr>\n",
       "      <th>1</th>\n",
       "      <td>1141801</td>\n",
       "      <td>1111276809302216710</td>\n",
       "      <td>5ela60</td>\n",
       "      <td>الأب ..الأخ ..الجار ..الحبيب .. السديك</td>\n",
       "      <td>NaN</td>\n",
       "      <td>167</td>\n",
       "      <td>9</td>\n",
       "      <td>656</td>\n",
       "      <td>2019-03-28 14:40:12.000000</td>\n",
       "      <td>1497724980271984641</td>\n",
       "      <td>2022-02-27 00:07:16</td>\n",
       "      <td>28</td>\n",
       "      <td>Like everybody else I am rooting for Ukraine t...</td>\n",
       "      <td>[]</td>\n",
       "      <td>en</td>\n",
       "      <td>NaN</td>\n",
       "      <td>0</td>\n",
       "      <td>2022-02-27 00:09:33.068011</td>\n",
       "    </tr>\n",
       "    <tr>\n",
       "      <th>2</th>\n",
       "      <td>1141802</td>\n",
       "      <td>1364735420236505088</td>\n",
       "      <td>StatistWomen</td>\n",
       "      <td>🇹🇷</td>\n",
       "      <td>Cumhur İttifakı</td>\n",
       "      <td>1771</td>\n",
       "      <td>1766</td>\n",
       "      <td>37009</td>\n",
       "      <td>2021-02-25 00:35:28.000000</td>\n",
       "      <td>1497724980322349058</td>\n",
       "      <td>2022-02-27 00:07:16</td>\n",
       "      <td>3</td>\n",
       "      <td>#Ukrayna Güvenlik Servisi, #Rus finosu #Kadiro...</td>\n",
       "      <td>[{'text': 'Ukrayna', 'indices': [15, 23]}, {'t...</td>\n",
       "      <td>tr</td>\n",
       "      <td>NaN</td>\n",
       "      <td>0</td>\n",
       "      <td>2022-02-27 00:09:33.059979</td>\n",
       "    </tr>\n",
       "    <tr>\n",
       "      <th>3</th>\n",
       "      <td>1141803</td>\n",
       "      <td>597779527</td>\n",
       "      <td>OurTurnToRescue</td>\n",
       "      <td>Issues: Threats to Democracy, Racism, GOP corr...</td>\n",
       "      <td>NaN</td>\n",
       "      <td>4847</td>\n",
       "      <td>4080</td>\n",
       "      <td>33666</td>\n",
       "      <td>2012-06-02 21:53:59.000000</td>\n",
       "      <td>1497724980573966346</td>\n",
       "      <td>2022-02-27 00:07:16</td>\n",
       "      <td>1</td>\n",
       "      <td>We elected a game show host and got a clown. #...</td>\n",
       "      <td>[{'text': 'Ukraine', 'indices': [63, 71]}]</td>\n",
       "      <td>en</td>\n",
       "      <td>NaN</td>\n",
       "      <td>0</td>\n",
       "      <td>2022-02-27 00:09:33.051823</td>\n",
       "    </tr>\n",
       "    <tr>\n",
       "      <th>4</th>\n",
       "      <td>1141804</td>\n",
       "      <td>1646145848</td>\n",
       "      <td>DrWAVeSportCd1</td>\n",
       "      <td>Addicted to News, Music, Cooking, Gardens, Out...</td>\n",
       "      <td>USA</td>\n",
       "      <td>5002</td>\n",
       "      <td>3950</td>\n",
       "      <td>466629</td>\n",
       "      <td>2013-08-04 21:07:08.000000</td>\n",
       "      <td>1497724980653694976</td>\n",
       "      <td>2022-02-27 00:07:16</td>\n",
       "      <td>277</td>\n",
       "      <td>Ukrainian soldiers wearing sunflowers in their...</td>\n",
       "      <td>[{'text': 'Ukraine', 'indices': [122, 130]}, {...</td>\n",
       "      <td>en</td>\n",
       "      <td>NaN</td>\n",
       "      <td>0</td>\n",
       "      <td>2022-02-27 00:09:33.043812</td>\n",
       "    </tr>\n",
       "  </tbody>\n",
       "</table>\n",
       "</div>"
      ],
      "text/plain": [
       "   Unnamed: 0               userid         username  \\\n",
       "0     1141800  1466752038960656385   Curtin2Tiffany   \n",
       "1     1141801  1111276809302216710           5ela60   \n",
       "2     1141802  1364735420236505088     StatistWomen   \n",
       "3     1141803            597779527  OurTurnToRescue   \n",
       "4     1141804           1646145848   DrWAVeSportCd1   \n",
       "\n",
       "                                            acctdesc         location  \\\n",
       "0  I am just like everyone else.  The universe ex...    Colorado, USA   \n",
       "1             الأب ..الأخ ..الجار ..الحبيب .. السديك              NaN   \n",
       "2                                                 🇹🇷  Cumhur İttifakı   \n",
       "3  Issues: Threats to Democracy, Racism, GOP corr...              NaN   \n",
       "4  Addicted to News, Music, Cooking, Gardens, Out...              USA   \n",
       "\n",
       "   following  followers  totaltweets               usercreatedts  \\\n",
       "0        253         40           94  2021-12-03 12:52:22.000000   \n",
       "1        167          9          656  2019-03-28 14:40:12.000000   \n",
       "2       1771       1766        37009  2021-02-25 00:35:28.000000   \n",
       "3       4847       4080        33666  2012-06-02 21:53:59.000000   \n",
       "4       5002       3950       466629  2013-08-04 21:07:08.000000   \n",
       "\n",
       "               tweetid       tweetcreatedts  retweetcount  \\\n",
       "0  1497724980259262467  2022-02-27 00:07:16             5   \n",
       "1  1497724980271984641  2022-02-27 00:07:16            28   \n",
       "2  1497724980322349058  2022-02-27 00:07:16             3   \n",
       "3  1497724980573966346  2022-02-27 00:07:16             1   \n",
       "4  1497724980653694976  2022-02-27 00:07:16           277   \n",
       "\n",
       "                                                text  \\\n",
       "0  #UkraineRussiaWar Captured Russian soldiers\\n\\...   \n",
       "1  Like everybody else I am rooting for Ukraine t...   \n",
       "2  #Ukrayna Güvenlik Servisi, #Rus finosu #Kadiro...   \n",
       "3  We elected a game show host and got a clown. #...   \n",
       "4  Ukrainian soldiers wearing sunflowers in their...   \n",
       "\n",
       "                                            hashtags language coordinates  \\\n",
       "0  [{'text': 'UkraineRussiaWar', 'indices': [19, ...       en         NaN   \n",
       "1                                                 []       en         NaN   \n",
       "2  [{'text': 'Ukrayna', 'indices': [15, 23]}, {'t...       tr         NaN   \n",
       "3         [{'text': 'Ukraine', 'indices': [63, 71]}]       en         NaN   \n",
       "4  [{'text': 'Ukraine', 'indices': [122, 130]}, {...       en         NaN   \n",
       "\n",
       "   favorite_count                 extractedts  \n",
       "0               0  2022-02-27 00:09:33.084131  \n",
       "1               0  2022-02-27 00:09:33.068011  \n",
       "2               0  2022-02-27 00:09:33.059979  \n",
       "3               0  2022-02-27 00:09:33.051823  \n",
       "4               0  2022-02-27 00:09:33.043812  "
      ]
     },
     "execution_count": 3,
     "metadata": {},
     "output_type": "execute_result"
    }
   ],
   "source": [
    "df = pd.read_csv('arquivos/UkraineCombinedTweetsDeduped_FEB27.csv')\n",
    "df.head()"
   ]
  },
  {
   "cell_type": "code",
   "execution_count": 4,
   "metadata": {},
   "outputs": [
    {
     "name": "stdout",
     "output_type": "stream",
     "text": [
      "['#UkraineRussiaWar Captured Russian soldiers \"They said what their own '\n",
      " 'battalion, where they are from and then told him it was just training and '\n",
      " 'did not know they are in ukraine.\" #RussianArmy #Soldiers #Україна #Ukraine '\n",
      " '#UkraineRussiaWar https://t.co/KVIPqs7TzJ https://t.co/LdlzDnxCzG']\n"
     ]
    }
   ],
   "source": [
    "# Convert to list\n",
    "data = df.text.values.tolist()\n",
    "\n",
    "# Remove Emails\n",
    "data = [re.sub('\\S*@\\S*\\s?', '', sent) for sent in data]\n",
    "\n",
    "# Remove new line characters\n",
    "data = [re.sub('\\s+', ' ', sent) for sent in data]\n",
    "\n",
    "# Remove distracting single quotes\n",
    "data = [re.sub(\"\\'\", \"\", sent) for sent in data]\n",
    "\n",
    "pprint(data[:1])"
   ]
  },
  {
   "cell_type": "code",
   "execution_count": 5,
   "metadata": {},
   "outputs": [
    {
     "name": "stdout",
     "output_type": "stream",
     "text": [
      "[['captured', 'russian', 'soldiers', 'they', 'said', 'what', 'their', 'own', 'battalion', 'where', 'they', 'are', 'from', 'and', 'then', 'told', 'him', 'it', 'was', 'just', 'training', 'and', 'did', 'not', 'know', 'they', 'are', 'in', 'ukraine', 'russianarmy', 'soldiers', 'украіна', 'ukraine', 'https', 'co', 'kvipqs', 'tzj', 'https', 'co', 'ldlzdnxczg']]\n"
     ]
    }
   ],
   "source": [
    "def sent_to_words(sentences):\n",
    "    for sentence in sentences:\n",
    "        yield(gensim.utils.simple_preprocess(str(sentence), deacc=True))  # deacc=True removes punctuations\n",
    "\n",
    "data_words = list(sent_to_words(data))\n",
    "\n",
    "print(data_words[:1])"
   ]
  },
  {
   "cell_type": "code",
   "execution_count": 6,
   "metadata": {},
   "outputs": [
    {
     "name": "stdout",
     "output_type": "stream",
     "text": [
      "['captured', 'russian', 'soldiers', 'they', 'said', 'what', 'their', 'own', 'battalion', 'where', 'they', 'are', 'from', 'and', 'then', 'told', 'him', 'it', 'was', 'just', 'training', 'and', 'did', 'not', 'know', 'they', 'are', 'in', 'ukraine', 'russianarmy', 'soldiers', 'украіна', 'ukraine', 'https', 'co', 'kvipqs', 'tzj', 'https', 'co', 'ldlzdnxczg']\n"
     ]
    }
   ],
   "source": [
    "# Build the bigram and trigram models\n",
    "bigram = gensim.models.Phrases(data_words, min_count=5, threshold=100) # higher threshold fewer phrases.\n",
    "trigram = gensim.models.Phrases(bigram[data_words], threshold=100)  \n",
    "\n",
    "# Faster way to get a sentence clubbed as a trigram/bigram\n",
    "bigram_mod = gensim.models.phrases.Phraser(bigram)\n",
    "trigram_mod = gensim.models.phrases.Phraser(trigram)\n",
    "\n",
    "# See trigram example\n",
    "print(trigram_mod[bigram_mod[data_words[0]]])"
   ]
  },
  {
   "cell_type": "code",
   "execution_count": 7,
   "metadata": {},
   "outputs": [
    {
     "name": "stdout",
     "output_type": "stream",
     "text": [
      "[['captured', 'russian', 'soldiers', 'said', 'battalion', 'told', 'training', 'know', 'ukraine', 'russianarmy', 'soldiers', 'украіна', 'ukraine', 'https', 'co', 'kvipqs', 'tzj', 'https', 'co', 'ldlzdnxczg']]\n"
     ]
    }
   ],
   "source": [
    "# Define functions for stopwords, bigrams, trigrams and lemmatization\n",
    "def remove_stopwords(texts):\n",
    "    return [[word for word in simple_preprocess(str(doc)) if word not in stop_words] for doc in texts]\n",
    "\n",
    "def make_bigrams(texts):\n",
    "    return [bigram_mod[doc] for doc in texts]\n",
    "\n",
    "def make_trigrams(texts):\n",
    "    return [trigram_mod[bigram_mod[doc]] for doc in texts]\n",
    "\n",
    "def lemmatization(texts, allowed_postags=['NOUN', 'ADJ', 'VERB', 'ADV']):\n",
    "    texts_out = []\n",
    "    for sent in texts:\n",
    "        doc = nlp(\" \".join(sent)) \n",
    "        texts_out.append([token.lemma_ for token in doc if token.pos_ in allowed_postags])\n",
    "    return texts_out\n",
    "\n",
    "# Remove Stop Words\n",
    "data_words_nostops = remove_stopwords(data_words)\n",
    "\n",
    "# Form Bigrams\n",
    "data_words_bigrams = make_bigrams(data_words_nostops)\n",
    "\n",
    "# Initialize spacy 'en' model, keeping only tagger component (for efficiency)\n",
    "# python3 -m spacy download en\n",
    "#nlp = spacy.load('en', disable=['parser', 'ner'])\n",
    "\n",
    "# Do lemmatization keeping only noun, adj, vb, adv\n",
    "#data_lemmatized = lemmatization(data_words_bigrams, allowed_postags=['NOUN', 'ADJ', 'VERB', 'ADV'])\n",
    "\n",
    "print(data_words_bigrams[:1])"
   ]
  },
  {
   "cell_type": "code",
   "execution_count": 8,
   "metadata": {},
   "outputs": [
    {
     "name": "stdout",
     "output_type": "stream",
     "text": [
      "[[(0, 1), (1, 1), (2, 2), (3, 2), (4, 1), (5, 1), (6, 1), (7, 1), (8, 1), (9, 1), (10, 2), (11, 1), (12, 1), (13, 1), (14, 2), (15, 1)]]\n"
     ]
    }
   ],
   "source": [
    "# Create Dictionary\n",
    "id2word = corpora.Dictionary(data_words_bigrams)\n",
    "\n",
    "# Create Corpus\n",
    "texts = data_words_bigrams\n",
    "\n",
    "# Term Document Frequency\n",
    "corpus = [id2word.doc2bow(text) for text in texts]\n",
    "\n",
    "# View\n",
    "print(corpus[:1])"
   ]
  },
  {
   "cell_type": "code",
   "execution_count": 14,
   "metadata": {},
   "outputs": [
    {
     "ename": "MemoryError",
     "evalue": "",
     "output_type": "error",
     "traceback": [
      "\u001b[1;31m---------------------------------------------------------------------------\u001b[0m",
      "\u001b[1;31mMemoryError\u001b[0m                               Traceback (most recent call last)",
      "\u001b[1;32mC:\\conda_tmp/ipykernel_11972/2777500870.py\u001b[0m in \u001b[0;36m<module>\u001b[1;34m\u001b[0m\n\u001b[0;32m      1\u001b[0m \u001b[1;31m# Build LDA model\u001b[0m\u001b[1;33m\u001b[0m\u001b[1;33m\u001b[0m\u001b[1;33m\u001b[0m\u001b[0m\n\u001b[1;32m----> 2\u001b[1;33m lda_model = gensim.models.ldamodel.LdaModel(corpus=corpus,\n\u001b[0m\u001b[0;32m      3\u001b[0m                                            \u001b[0mid2word\u001b[0m\u001b[1;33m=\u001b[0m\u001b[0mid2word\u001b[0m\u001b[1;33m,\u001b[0m\u001b[1;33m\u001b[0m\u001b[1;33m\u001b[0m\u001b[0m\n\u001b[0;32m      4\u001b[0m                                            \u001b[0mnum_topics\u001b[0m\u001b[1;33m=\u001b[0m\u001b[1;36m20\u001b[0m\u001b[1;33m,\u001b[0m\u001b[1;33m\u001b[0m\u001b[1;33m\u001b[0m\u001b[0m\n\u001b[0;32m      5\u001b[0m                                            \u001b[0mrandom_state\u001b[0m\u001b[1;33m=\u001b[0m\u001b[1;36m100\u001b[0m\u001b[1;33m,\u001b[0m\u001b[1;33m\u001b[0m\u001b[1;33m\u001b[0m\u001b[0m\n",
      "\u001b[1;32m~\\AppData\\Local\\Programs\\Python\\Python38-32\\lib\\site-packages\\gensim\\models\\ldamodel.py\u001b[0m in \u001b[0;36m__init__\u001b[1;34m(self, corpus, num_topics, id2word, distributed, chunksize, passes, update_every, alpha, eta, decay, offset, eval_every, iterations, gamma_threshold, minimum_probability, random_state, ns_conf, minimum_phi_value, per_word_topics, callbacks, dtype)\u001b[0m\n\u001b[0;32m    440\u001b[0m             \u001b[0mself\u001b[0m\u001b[1;33m.\u001b[0m\u001b[0mnum_terms\u001b[0m \u001b[1;33m=\u001b[0m \u001b[0mlen\u001b[0m\u001b[1;33m(\u001b[0m\u001b[0mself\u001b[0m\u001b[1;33m.\u001b[0m\u001b[0mid2word\u001b[0m\u001b[1;33m)\u001b[0m\u001b[1;33m\u001b[0m\u001b[1;33m\u001b[0m\u001b[0m\n\u001b[0;32m    441\u001b[0m         \u001b[1;32melif\u001b[0m \u001b[0mlen\u001b[0m\u001b[1;33m(\u001b[0m\u001b[0mself\u001b[0m\u001b[1;33m.\u001b[0m\u001b[0mid2word\u001b[0m\u001b[1;33m)\u001b[0m \u001b[1;33m>\u001b[0m \u001b[1;36m0\u001b[0m\u001b[1;33m:\u001b[0m\u001b[1;33m\u001b[0m\u001b[1;33m\u001b[0m\u001b[0m\n\u001b[1;32m--> 442\u001b[1;33m             \u001b[0mself\u001b[0m\u001b[1;33m.\u001b[0m\u001b[0mnum_terms\u001b[0m \u001b[1;33m=\u001b[0m \u001b[1;36m1\u001b[0m \u001b[1;33m+\u001b[0m \u001b[0mmax\u001b[0m\u001b[1;33m(\u001b[0m\u001b[0mself\u001b[0m\u001b[1;33m.\u001b[0m\u001b[0mid2word\u001b[0m\u001b[1;33m.\u001b[0m\u001b[0mkeys\u001b[0m\u001b[1;33m(\u001b[0m\u001b[1;33m)\u001b[0m\u001b[1;33m)\u001b[0m\u001b[1;33m\u001b[0m\u001b[1;33m\u001b[0m\u001b[0m\n\u001b[0m\u001b[0;32m    443\u001b[0m         \u001b[1;32melse\u001b[0m\u001b[1;33m:\u001b[0m\u001b[1;33m\u001b[0m\u001b[1;33m\u001b[0m\u001b[0m\n\u001b[0;32m    444\u001b[0m             \u001b[0mself\u001b[0m\u001b[1;33m.\u001b[0m\u001b[0mnum_terms\u001b[0m \u001b[1;33m=\u001b[0m \u001b[1;36m0\u001b[0m\u001b[1;33m\u001b[0m\u001b[1;33m\u001b[0m\u001b[0m\n",
      "\u001b[1;32m~\\AppData\\Local\\Programs\\Python\\Python38-32\\lib\\site-packages\\gensim\\corpora\\dictionary.py\u001b[0m in \u001b[0;36mkeys\u001b[1;34m(self)\u001b[0m\n\u001b[0;32m    129\u001b[0m \u001b[1;33m\u001b[0m\u001b[0m\n\u001b[0;32m    130\u001b[0m         \"\"\"\n\u001b[1;32m--> 131\u001b[1;33m         \u001b[1;32mreturn\u001b[0m \u001b[0mlist\u001b[0m\u001b[1;33m(\u001b[0m\u001b[0mself\u001b[0m\u001b[1;33m.\u001b[0m\u001b[0mtoken2id\u001b[0m\u001b[1;33m.\u001b[0m\u001b[0mvalues\u001b[0m\u001b[1;33m(\u001b[0m\u001b[1;33m)\u001b[0m\u001b[1;33m)\u001b[0m\u001b[1;33m\u001b[0m\u001b[1;33m\u001b[0m\u001b[0m\n\u001b[0m\u001b[0;32m    132\u001b[0m \u001b[1;33m\u001b[0m\u001b[0m\n\u001b[0;32m    133\u001b[0m     \u001b[1;32mdef\u001b[0m \u001b[0m__len__\u001b[0m\u001b[1;33m(\u001b[0m\u001b[0mself\u001b[0m\u001b[1;33m)\u001b[0m\u001b[1;33m:\u001b[0m\u001b[1;33m\u001b[0m\u001b[1;33m\u001b[0m\u001b[0m\n",
      "\u001b[1;31mMemoryError\u001b[0m: "
     ]
    }
   ],
   "source": [
    "# Build LDA model\n",
    "lda_model = gensim.models.ldamodel.LdaModel(corpus=corpus,\n",
    "                                           id2word=id2word,\n",
    "                                           num_topics=20, \n",
    "                                           random_state=100,\n",
    "                                           update_every=1,\n",
    "                                           chunksize=100,\n",
    "                                           passes=10,\n",
    "                                           alpha='auto',\n",
    "                                           per_word_topics=True)"
   ]
  },
  {
   "cell_type": "code",
   "execution_count": null,
   "metadata": {},
   "outputs": [],
   "source": [
    "# Compute Perplexity\n",
    "print('\\nPerplexity: ', lda_model.log_perplexity(corpus))  # a measure of how good the model is. lower the better.\n",
    "\n",
    "# Compute Coherence Score\n",
    "coherence_model_lda = CoherenceModel(model=lda_model, texts=data_lemmatized, dictionary=id2word, coherence='c_v')\n",
    "coherence_lda = coherence_model_lda.get_coherence()\n",
    "print('\\nCoherence Score: ', coherence_lda)"
   ]
  },
  {
   "cell_type": "code",
   "execution_count": null,
   "metadata": {},
   "outputs": [],
   "source": [
    "# Plotting tools\n",
    "import pyLDAvis\n",
    "import pyLDAvis.gensim  # don't skip this\n",
    "import matplotlib.pyplot as plt\n",
    "%matplotlib inline\n",
    "\n",
    "# Visualize the topics\n",
    "pyLDAvis.enable_notebook()\n",
    "vis = pyLDAvis.gensim.prepare(lda_model, corpus, id2word)\n",
    "vis"
   ]
  }
 ],
 "metadata": {
  "interpreter": {
   "hash": "d1cad01a2fa484a596042af4c5a27bfadd01597140342827aba738977e0e7eb3"
  },
  "kernelspec": {
   "display_name": "Python 3.8.5 32-bit",
   "language": "python",
   "name": "python3"
  },
  "language_info": {
   "codemirror_mode": {
    "name": "ipython",
    "version": 3
   },
   "file_extension": ".py",
   "mimetype": "text/x-python",
   "name": "python",
   "nbconvert_exporter": "python",
   "pygments_lexer": "ipython3",
   "version": "3.8.5"
  },
  "orig_nbformat": 4
 },
 "nbformat": 4,
 "nbformat_minor": 2
}
